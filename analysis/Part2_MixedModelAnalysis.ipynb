{
 "cells": [
  {
   "cell_type": "markdown",
   "id": "8bd941ae-c477-4bb1-8760-50949a226153",
   "metadata": {},
   "source": [
    "# Remembered Object Position Task - Analysis - Part 2 - LMMs\n",
    "\n",
    "## Data Import"
   ]
  },
  {
   "cell_type": "code",
   "execution_count": null,
   "id": "781cefba-e880-4223-8bac-d69b86355dd8",
   "metadata": {
    "tags": []
   },
   "outputs": [],
   "source": [
    "# Load libraries\n",
    "library('tidyverse')\n",
    "\n",
    "library('lme4')\n",
    "library('pwr')\n",
    "library('emmeans')\n",
    "library('parameters')\n",
    "library('sjstats')\n",
    "library('sjPlot')\n",
    "library('lmerTest')\n",
    "library('ggeffects')\n",
    "library('buildmer')\n",
    "\n",
    "\n",
    "# Folders\n",
    "dir.data <- '../results'\n",
    "dir.out <- dir.data\n"
   ]
  },
  {
   "cell_type": "code",
   "execution_count": null,
   "id": "c6ff3a6c-2347-4262-8e0e-f16605a805ff",
   "metadata": {},
   "outputs": [],
   "source": [
    "install.packages('afex')"
   ]
  },
  {
   "cell_type": "code",
   "execution_count": null,
   "id": "bf09da23-f234-44c1-ada4-c80fcafc84fd",
   "metadata": {
    "tags": []
   },
   "outputs": [],
   "source": [
    "# Import datasets\n",
    "trials <- read_tsv(paste(dir.data, '/lmm_analysis_trials.csv', sep='')) # Trial responses\n",
    "trials_var <- read_tsv(paste(dir.data, '/lmm_analysis_stddev.csv', sep='')) # Aggregated SD values\n",
    "tlx <- read_tsv(paste(dir.data, '/lmm_analysis_tlx.csv', sep='')) # NASA TLX scores\n",
    "\n",
    "# Set factors\n",
    "trials$response_mode <- factor(trials$response_mode, levels=c('object', 'cube', 'fixed', 'laser'))\n",
    "trials$session_num <- factor(trials$session_num, levels=c(1, 2, 3, 4), order=T)\n",
    "trials_var$response_mode <- factor(trials_var$response_mode, levels=c('object', 'cube', 'fixed', 'laser'))\n",
    "trials_var$session_num <- factor(trials_var$session_num, levels=c(1, 2, 3, 4), order=T)\n",
    "tlx$response_mode <- factor(tlx$response_mode, levels=c('object', 'cube', 'fixed', 'laser'))\n",
    "tlx$session_num <- factor(tlx$session_num, levels=c(1, 2, 3, 4), order=T)\n"
   ]
  },
  {
   "cell_type": "markdown",
   "id": "f4168585-2289-4533-95c6-6c50af00f3fd",
   "metadata": {},
   "source": [
    "## Model Selection\n"
   ]
  },
  {
   "cell_type": "code",
   "execution_count": null,
   "id": "994ee794-2ccf-43fb-b7f5-52fd8a34835d",
   "metadata": {},
   "outputs": [],
   "source": [
    "# Terms to include in all models evaluated by buildmer\n",
    "force.include <- 'response_mode + session_num + response_mode:session_num + (1|ppid)'"
   ]
  },
  {
   "cell_type": "markdown",
   "id": "1d1849cc-abe8-49de-a345-7e8c7018e7ec",
   "metadata": {},
   "source": [
    "### Accuracy"
   ]
  },
  {
   "cell_type": "code",
   "execution_count": null,
   "id": "15cb5d6f-938e-46d0-8ce6-339a43d9d949",
   "metadata": {
    "tags": []
   },
   "outputs": [],
   "source": [
    "# Accuracy\n",
    "max.acc <- tar_error_pos ~ response_mode + session_num + response_mode:session_num + (1 + response_mode + session_num|ppid) + (1+ response_mode + session_num|target)\n",
    "#m.acc <- buildmer(max.acc, trials, buildmerControl=buildmerControl(include=force.include))\n",
    "\n",
    "#print(formula(m.acc@model))\n",
    "#print(m.acc)\n",
    "\n",
    "# 0. buildmer ends on:\n",
    "# tar_error_pos ~ 1 + response_mode + session_num + response_mode:session_num + (1 | ppid) + (1 + response_mode | target)\n",
    "# REML criterion at convergence: -12858.88\n",
    "\n",
    "# 1. Check if response_mode | ppid improves fit\n",
    "#m0 <- lmer(data=trials, tar_error_pos ~ 1 + response_mode + session_num + response_mode:session_num + (1 | ppid) + (1 + response_mode | target), REML=F)\n",
    "#m1 <- lmer(data=trials, tar_error_pos ~ 1 + response_mode + session_num + response_mode:session_num + (1 + response_mode | ppid) + (1 + response_mode | target), REML=F)\n",
    "#print(anova(m0, m1))\n",
    "\n",
    "# Result: Model with response_mode | ppid fits better\n",
    "#    npar    AIC    BIC logLik deviance  Chisq Df Pr(>Chisq)    \n",
    "# m0   28 -12968 -12800 6511.8   -13024                         \n",
    "# m1   37 -13120 -12899 6597.0   -13194 170.49  9  < 2.2e-16 ***\n",
    "# Note on negative logLik: https://stat.ethz.ch/pipermail/r-help/2005-April/069550.html\n",
    "\n",
    "\n",
    "# 2. Check if including session_num | ppid improves fit\n",
    "#m2 <- lmer(data=trials, tar_error_pos ~ 1 + response_mode + session_num + response_mode:session_num + (1 + response_mode + session_num | ppid) + (1 + response_mode | target), REML=F)\n",
    "\n",
    "# Result: m2 does not converge\n",
    "\n",
    "\n",
    "# 3. Check if session_num | target improves fit\n",
    "#m3 <- lmer(data=trials, tar_error_pos ~ 1 + response_mode + session_num + response_mode:session_num + (1 + response_mode | ppid) + (1 + response_mode + session_num | target), REML=F)\n",
    "\n",
    "# Result: m3 does not converge\n",
    "\n",
    "\n",
    "# FINAL model for Accuracy: \n",
    "f.acc <- tar_error_pos ~ 1 + response_mode + session_num + response_mode:session_num + (1 + response_mode | ppid) + (1 + response_mode | target)\n"
   ]
  },
  {
   "cell_type": "markdown",
   "id": "e6006a77-1fe4-41f5-94e0-f92037e7f5fc",
   "metadata": {},
   "source": [
    "### Precision"
   ]
  },
  {
   "cell_type": "code",
   "execution_count": null,
   "id": "41fec04f-1034-4da2-9619-1d3989f59fc1",
   "metadata": {
    "tags": []
   },
   "outputs": [],
   "source": [
    "# Precison (pre-aggregated by session)\n",
    "max.prec <- tar_error_pos ~ response_mode + session_num + response_mode:session_num + (1 + response_mode + session_num | ppid)\n",
    "#m.prec <- buildmer(max.prec, trials_var, buildmerControl=buildmerControl(include=force.include))\n",
    "\n",
    "#print(formula(m.prec@model))\n",
    "\n",
    "# 0. buildmer ends on:\n",
    "# tar_error_pos ~ 1 + response_mode + session_num + response_mode:session_num + (1 | ppid)\n",
    "\n",
    "# For all additional RE terms, observations <= random effects, no convergence\n",
    "\n",
    "# FINAL model for Precision\n",
    "f.prec <- tar_error_pos ~ 1 + response_mode + session_num + response_mode:session_num + (1 | ppid)\n"
   ]
  },
  {
   "cell_type": "markdown",
   "id": "4949d61b-23bd-4483-b766-f9a1dc677295",
   "metadata": {},
   "source": [
    "### Response Duration"
   ]
  },
  {
   "cell_type": "code",
   "execution_count": null,
   "id": "cd234ad5-17f1-4722-8102-3c04d7d5b6d3",
   "metadata": {
    "tags": []
   },
   "outputs": [],
   "source": [
    "# Response Duration\n",
    "max.rt <- response_duration ~ response_mode + session_num + response_mode:session_num + (1 +  response_mode + session_num|ppid) + (1+ response_mode + session_num|target)\n",
    "#m.rt <- buildmer(max.rt, trials, buildmerControl=buildmerControl(include=force.include))\n",
    "\n",
    "#print(formula(m.rt@model))\n",
    "\n",
    "# 0. buildmer ends on:\n",
    "# response_duration ~ 1 + response_mode + session_num + response_mode:session_num + (1 | ppid) + (1 | target)\n",
    "\n",
    "\n",
    "# 1. Check response_mode | ppid\n",
    "m0 <- lmer(data=trials, response_duration ~ 1 + response_mode + session_num + response_mode:session_num + (1 | ppid) + (1 | target), REML=F)\n",
    "#m1 <- lmer(data=trials, response_duration ~ 1 + response_mode + session_num + response_mode:session_num + (1 + response_mode | ppid) + (1 | target), REML=F)\n",
    "\n",
    "# Result: m1 does not converge\n",
    "\n",
    "\n",
    "# 2. Check session_num | ppid\n",
    "m2 <- lmer(data=trials, response_duration ~ 1 + response_mode + session_num + response_mode:session_num + (1 + session_num | ppid) + (1 | target), REML=F)\n",
    "#print(anova(m0, m2))\n",
    "\n",
    "# Result: Model with session_num | ppid fits better\n",
    "# m0   19 11146 11260 -5553.9    11108                         \n",
    "# m2   28 10529 10696 -5236.5    10473 634.78  9  < 2.2e-16 ***\n",
    "\n",
    "# 3. Check if session_num | target further improves fit\n",
    "#m3 <- lmer(data=trials, response_duration ~ 1 + response_mode + session_num + response_mode:session_num + (1 + session_num | ppid) + (1 + session_num | target), REML=F)\n",
    "\n",
    "# Result: m3 does not converge.\n",
    "\n",
    "# 4. Check if response_mode | target further improves fit\n",
    "#m4 <- lmer(data=trials, response_duration ~ 1 + response_mode + session_num + response_mode:session_num + (1 + session_num| ppid) + (1 + response_mode | target), REML=F)\n",
    "#print(anova(m4, m2))\n",
    "\n",
    "# Result: It does. \n",
    "# m2   28 10529 10696 -5236.5    10473                         \n",
    "# m4   37 10439 10660 -5182.5    10365 107.94  9  < 2.2e-16 ***\n",
    "\n",
    "# 5. Either adding \"+ response_mode | ppid\" or \"+ session_num | target\" fail to converge\n",
    "\n",
    "# FINAL model for response duration: \n",
    "f.rt <- response_duration ~ 1 + response_mode + session_num + response_mode:session_num + (1 + session_num| ppid) + (1 + response_mode | target)\n"
   ]
  },
  {
   "cell_type": "markdown",
   "id": "e2dd6377-76f4-48b3-a755-1efe28a26d9c",
   "metadata": {},
   "source": [
    "### TLX Score"
   ]
  },
  {
   "cell_type": "code",
   "execution_count": null,
   "id": "0a046def-aa83-4113-a0d7-e5f5af4a9e4a",
   "metadata": {
    "tags": []
   },
   "outputs": [],
   "source": [
    "# Subjective Workload\n",
    "max.tlx <- Global ~ response_mode + session_num + response_mode:session_num + (1 + response_mode + session_num|ppid)\n",
    "#m.tlx <- buildmer(max.tlx, tlx, buildmerControl=buildmerControl(include=force.include))\n",
    "#print(formula(m.tlx@model))\n",
    "\n",
    "# 0. buildmer ends on:\n",
    "# Global ~ 1 + response_mode + session_num + response_mode:session_num + (1 | ppid)\n",
    "\n",
    "# For all additional RE terms, observations <= random effects, no convergence\n",
    "\n",
    "# FINAL model for TLX score\n",
    "f.tlx <- Global ~ 1 + response_mode + session_num + response_mode:session_num + (1 | ppid)"
   ]
  },
  {
   "cell_type": "markdown",
   "id": "55e6b380-73a6-42b0-919a-2058a0b1068f",
   "metadata": {},
   "source": [
    "## Final Models\n",
    "\n",
    "### Accuracy"
   ]
  },
  {
   "cell_type": "code",
   "execution_count": null,
   "id": "0d5561f8-1505-426d-bcdb-ff1ba5424411",
   "metadata": {},
   "outputs": [],
   "source": [
    "# Fit final model\n",
    "model.acc <- lmer(data=trials, f.acc)\n",
    "\n",
    "# Model + Anova results\n",
    "cat('* ANOVA Omnibus Results + Statistics:\\n')\n",
    "print(summary(model.acc))\n",
    "print(anova(model.acc))\n"
   ]
  },
  {
   "cell_type": "code",
   "execution_count": null,
   "id": "5278191c-3fca-4484-bd0d-3f7aa9c510bf",
   "metadata": {},
   "outputs": [],
   "source": [
    "print(eta_squared(anova(model.acc)))"
   ]
  },
  {
   "cell_type": "code",
   "execution_count": null,
   "id": "024fb1a4-5148-4276-b55e-d86d60563df5",
   "metadata": {},
   "outputs": [],
   "source": [
    "# Post-hoc contrasts\n",
    "cat('\\n\\n* Post-Hoc Comparisons for Response Mode:\\n')\n",
    "emm_response <- emmeans(model.acc, pairwise ~ response_mode, adjust=\"holm\")\n",
    "print(emm_response$contrasts)\n",
    "print(eff_size(emm_response, sigma = sigma(model.acc), edf = df.residual(model.acc)))\n",
    "\n",
    "cat('\\n\\n* Post-Hoc Comparisons for Session:\\n')\n",
    "print(emmeans(model.acc, pairwise ~ session_num, adjust=\"holm\")$contrasts)\n"
   ]
  },
  {
   "cell_type": "code",
   "execution_count": null,
   "id": "1f1a49a0-0c3e-4c51-b326-f34ca87eaf9c",
   "metadata": {},
   "outputs": [],
   "source": [
    "# emmeans for plot\n",
    "cat('\\n\\n* Estimated Marginal Means for Response:\\n')\n",
    "gemm.response <- ggemmeans(model.acc, terms=c('response_mode'))\n",
    "write.csv(gemm.response, paste(dir.out, 'emmeans_acc_response.csv', sep='/'), row.names = FALSE)\n",
    "gemm.response\n",
    "\n",
    "cat('\\n\\n* Estimated Marginal Means for Session:\\n')\n",
    "gemm.session <- ggemmeans(model.acc, terms=c('session_num'))\n",
    "write.csv(gemm.session, paste(dir.out, 'emmeans_acc_session.csv', sep='/'), row.names = FALSE)\n",
    "gemm.session\n"
   ]
  },
  {
   "cell_type": "code",
   "execution_count": null,
   "id": "5bc8b036-fd4f-4da0-94e4-7764bbcfb42f",
   "metadata": {},
   "outputs": [],
   "source": [
    "# Effects plots\n",
    "plot_model(model.acc, type='pred')"
   ]
  },
  {
   "cell_type": "markdown",
   "id": "d59a619a-60ba-4969-b161-ef28810a682d",
   "metadata": {},
   "source": [
    "### Precision"
   ]
  },
  {
   "cell_type": "code",
   "execution_count": null,
   "id": "d2eddff5-7659-4fc1-82c2-21bdbbe6883f",
   "metadata": {},
   "outputs": [],
   "source": [
    "# Fit final model\n",
    "model.prec <- lmer(data=trials_var, f.prec)\n",
    "\n",
    "# Model + Anova results\n",
    "cat('* ANOVA Omnibus Results + Statistics:\\n')\n",
    "print(summary(model.prec))\n",
    "print(anova_stats(model.prec))\n"
   ]
  },
  {
   "cell_type": "code",
   "execution_count": null,
   "id": "a1f4ff43-6ba1-4e3c-8f21-ae9061364901",
   "metadata": {},
   "outputs": [],
   "source": [
    "# Post-hoc contrasts\n",
    "cat('\\n\\n* Post-Hoc Comparisons for Response Mode:\\n')\n",
    "emm_response <- emmeans(model.prec, pairwise ~ response_mode, adjust=\"holm\")\n",
    "print(emm_response$contrasts)\n",
    "print(eff_size(emm_response, sigma = sigma(model.prec), edf = df.residual(model.prec)))\n",
    "\n",
    "cat('\\n\\n* Post-Hoc Comparisons for Session:\\n')\n",
    "print(emmeans(model.prec, pairwise ~ session_num, adjust=\"holm\")$contrasts)\n"
   ]
  },
  {
   "cell_type": "code",
   "execution_count": null,
   "id": "38c7fb09-7405-493e-a05b-1087865af330",
   "metadata": {},
   "outputs": [],
   "source": [
    "# emmeans for plot\n",
    "cat('\\n\\n* Estimated Marginal Means for Response:\\n')\n",
    "gemm.response <- ggemmeans(model.prec, terms=c('response_mode'))\n",
    "write.csv(gemm.response, paste(dir.out, 'emmeans_prec_response.csv', sep='/'), row.names = FALSE)\n",
    "gemm.response\n",
    "\n",
    "cat('\\n\\n* Estimated Marginal Means for Session:\\n')\n",
    "gemm.session <- ggemmeans(model.prec, terms=c('session_num'))\n",
    "write.csv(gemm.session, paste(dir.out, 'emmeans_prec_session.csv', sep='/'), row.names = FALSE)\n",
    "gemm.session\n"
   ]
  },
  {
   "cell_type": "code",
   "execution_count": null,
   "id": "8f6200e0-414c-46b9-a711-6745bc4064f5",
   "metadata": {},
   "outputs": [],
   "source": [
    "# Effects plots\n",
    "plot_model(model.prec, type='pred')"
   ]
  },
  {
   "cell_type": "markdown",
   "id": "a17eacd5-9eed-473d-8963-e94a8d8726a9",
   "metadata": {},
   "source": [
    "### Response Duration"
   ]
  },
  {
   "cell_type": "code",
   "execution_count": null,
   "id": "17e1a687-6c10-43f5-a627-655e2c49e108",
   "metadata": {},
   "outputs": [],
   "source": [
    "# Fit final model\n",
    "model.rt <- lmer(data=trials, f.rt)\n",
    "\n",
    "# Model + Anova results\n",
    "cat('* ANOVA Omntrials_varsults + Statistics:\\n')\n",
    "print(summary(model.rt))\n",
    "print(anova_stats(model.rt))\n"
   ]
  },
  {
   "cell_type": "code",
   "execution_count": null,
   "id": "64cc10c5-757c-4dc2-9b75-c6dd9174068b",
   "metadata": {},
   "outputs": [],
   "source": [
    "# Post-hoc contrasts\n",
    "cat('\\n\\n* Post-Hoc Comparisons for Response Mode:\\n')\n",
    "emm_response <- emmeans(model.rt, pairwise ~ response_mode, adjust=\"holm\")\n",
    "print(emm_response$contrasts)\n",
    "print(eff_size(emm_response, sigma = sigma(model.rt), edf = df.residual(model.rt)))\n",
    "\n",
    "cat('\\n\\n* Post-Hoc Comparisons for Session:\\n')\n",
    "print(emmeans(model.rt, pairwise ~ session_num, adjust=\"holm\")$contrasts)\n"
   ]
  },
  {
   "cell_type": "code",
   "execution_count": null,
   "id": "79ec25ea-2d11-4db2-8dcb-111bce5f63ff",
   "metadata": {},
   "outputs": [],
   "source": [
    "# emmeans for plot\n",
    "cat('\\n\\n* Estimated Marginal Means for Response:\\n')\n",
    "gemm.response <- ggemmeans(model.rt, terms=c('response_mode'))\n",
    "write.csv(gemm.response, paste(dir.out, 'emmeans_rt_response.csv', sep='/'), row.names = FALSE)\n",
    "gemm.response\n",
    "\n",
    "cat('\\n\\n* Estimated Marginal Means for Session:\\n')\n",
    "gemm.session <- ggemmeans(model.rt, terms=c('session_num'))\n",
    "write.csv(gemm.session, paste(dir.out, 'emmeans_rt_session.csv', sep='/'), row.names = FALSE)\n",
    "gemm.session\n"
   ]
  },
  {
   "cell_type": "code",
   "execution_count": null,
   "id": "922add83-9aa8-4ea6-886f-0c9f38789926",
   "metadata": {},
   "outputs": [],
   "source": [
    "# Effects plots\n",
    "plot_model(model.rt, type='pred')"
   ]
  },
  {
   "cell_type": "markdown",
   "id": "1f4d679c-e304-40d3-8fd6-c095b852afb9",
   "metadata": {},
   "source": [
    "### TLX Score"
   ]
  },
  {
   "cell_type": "code",
   "execution_count": null,
   "id": "96fa3d13-88b2-412d-ac2c-89b25caeffae",
   "metadata": {},
   "outputs": [],
   "source": [
    "# Fit final model\n",
    "model.tlx <- lmer(data=tlx, f.tlx)\n",
    "\n",
    "# Model + Anova results\n",
    "cat('* ANOVA Omntrials_varsults + Statistics:\\n')\n",
    "print(summary(model.tlx))\n",
    "print(anova_stats(model.tlx))\n"
   ]
  },
  {
   "cell_type": "code",
   "execution_count": null,
   "id": "8e974b99-4d10-4987-aa14-dd02b3a7efd4",
   "metadata": {},
   "outputs": [],
   "source": [
    "# Post-hoc contrasts\n",
    "cat('\\n\\n* Post-Hoc Comparisons for Response Mode:\\n')\n",
    "emm_response <- emmeans(model.tlx, pairwise ~ response_mode, adjust=\"holm\")\n",
    "print(emm_response$contrasts)\n",
    "print(eff_size(emm_response, sigma = sigma(model.tlx), edf = df.residual(model.tlx)))\n",
    "\n",
    "cat('\\n\\n* Post-Hoc Comparisons for Session:\\n')\n",
    "print(emmeans(model.tlx, pairwise ~ session_num, adjust=\"holm\")$contrasts)\n",
    "print(eff_size(emmeans(model.tlx, pairwise ~ session_num, adjust=\"holm\"), sigma = sigma(model.tlx), edf = df.residual(model.tlx)))"
   ]
  },
  {
   "cell_type": "code",
   "execution_count": null,
   "id": "f65f7a26-385e-4c76-a971-8356d7c1f1fe",
   "metadata": {},
   "outputs": [],
   "source": [
    "# emmeans for plot\n",
    "cat('\\n\\n* Estimated Marginal Means for Response:\\n')\n",
    "gemm.response <- ggemmeans(model.tlx, terms=c('response_mode'))\n",
    "write.csv(gemm.response, paste(dir.out, 'emmeans_tlx_response.csv', sep='/'), row.names = FALSE)\n",
    "gemm.response\n",
    "\n",
    "cat('\\n\\n* Estimated Marginal Means for Session:\\n')\n",
    "gemm.session <- ggemmeans(model.tlx, terms=c('session_num'))\n",
    "write.csv(gemm.session, paste(dir.out, 'emmeans_tlx_session.csv', sep='/'), row.names = FALSE)\n",
    "gemm.session\n"
   ]
  },
  {
   "cell_type": "code",
   "execution_count": null,
   "id": "0b13517b-b61c-4746-99aa-ac92eb1cb591",
   "metadata": {},
   "outputs": [],
   "source": [
    "# Plot effects\n",
    "plot_model(model.tlx, type='pred')"
   ]
  },
  {
   "cell_type": "code",
   "execution_count": null,
   "id": "ab851dc4-9583-4943-8fd0-0773b07926cf",
   "metadata": {},
   "outputs": [],
   "source": []
  },
  {
   "cell_type": "code",
   "execution_count": null,
   "id": "42d995e0-ba98-4cbe-9fa9-4eb69203e076",
   "metadata": {},
   "outputs": [],
   "source": []
  }
 ],
 "metadata": {
  "kernelspec": {
   "display_name": "R",
   "language": "R",
   "name": "ir"
  },
  "language_info": {
   "codemirror_mode": "r",
   "file_extension": ".r",
   "mimetype": "text/x-r-source",
   "name": "R",
   "pygments_lexer": "r",
   "version": "4.0.3"
  }
 },
 "nbformat": 4,
 "nbformat_minor": 5
}
