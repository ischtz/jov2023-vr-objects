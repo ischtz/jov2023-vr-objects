{
 "cells": [
  {
   "cell_type": "markdown",
   "id": "8bd941ae-c477-4bb1-8760-50949a226153",
   "metadata": {},
   "source": [
    "# Remembered Object Position Task - Analysis - Part 2 - LMMs\n",
    "\n",
    "## Data Import"
   ]
  },
  {
   "cell_type": "code",
   "execution_count": 1,
   "id": "781cefba-e880-4223-8bac-d69b86355dd8",
   "metadata": {
    "tags": []
   },
   "outputs": [
    {
     "name": "stderr",
     "output_type": "stream",
     "text": [
      "Warning message:\n",
      "\"package 'tidyverse' was built under R version 4.0.5\"\n",
      "-- \u001b[1mAttaching packages\u001b[22m ------------------------------------------------------------------------------- tidyverse 1.3.1 --\n",
      "\n",
      "\u001b[32mv\u001b[39m \u001b[34mggplot2\u001b[39m 3.3.5     \u001b[32mv\u001b[39m \u001b[34mpurrr  \u001b[39m 0.3.4\n",
      "\u001b[32mv\u001b[39m \u001b[34mtibble \u001b[39m 3.1.6     \u001b[32mv\u001b[39m \u001b[34mdplyr  \u001b[39m 1.0.8\n",
      "\u001b[32mv\u001b[39m \u001b[34mtidyr  \u001b[39m 1.2.0     \u001b[32mv\u001b[39m \u001b[34mstringr\u001b[39m 1.4.0\n",
      "\u001b[32mv\u001b[39m \u001b[34mreadr  \u001b[39m 1.4.0     \u001b[32mv\u001b[39m \u001b[34mforcats\u001b[39m 0.5.1\n",
      "\n",
      "Warning message:\n",
      "\"package 'ggplot2' was built under R version 4.0.5\"\n",
      "Warning message:\n",
      "\"package 'tibble' was built under R version 4.0.5\"\n",
      "Warning message:\n",
      "\"package 'tidyr' was built under R version 4.0.5\"\n",
      "Warning message:\n",
      "\"package 'dplyr' was built under R version 4.0.5\"\n",
      "Warning message:\n",
      "\"package 'forcats' was built under R version 4.0.5\"\n",
      "-- \u001b[1mConflicts\u001b[22m ---------------------------------------------------------------------------------- tidyverse_conflicts() --\n",
      "\u001b[31mx\u001b[39m \u001b[34mdplyr\u001b[39m::\u001b[32mfilter()\u001b[39m masks \u001b[34mstats\u001b[39m::filter()\n",
      "\u001b[31mx\u001b[39m \u001b[34mdplyr\u001b[39m::\u001b[32mlag()\u001b[39m    masks \u001b[34mstats\u001b[39m::lag()\n",
      "\n",
      "Loading required package: Matrix\n",
      "\n",
      "\n",
      "Attaching package: 'Matrix'\n",
      "\n",
      "\n",
      "The following objects are masked from 'package:tidyr':\n",
      "\n",
      "    expand, pack, unpack\n",
      "\n",
      "\n",
      "Warning message:\n",
      "\"package 'pwr' was built under R version 4.0.5\"\n",
      "\n",
      "Attaching package: 'sjstats'\n",
      "\n",
      "\n",
      "The following object is masked from 'package:parameters':\n",
      "\n",
      "    p_value\n",
      "\n",
      "\n",
      "\n",
      "Attaching package: 'lmerTest'\n",
      "\n",
      "\n",
      "The following object is masked from 'package:lme4':\n",
      "\n",
      "    lmer\n",
      "\n",
      "\n",
      "The following object is masked from 'package:stats':\n",
      "\n",
      "    step\n",
      "\n",
      "\n"
     ]
    }
   ],
   "source": [
    "# Load libraries\n",
    "library('tidyverse')\n",
    "\n",
    "library('lme4')\n",
    "library('pwr')\n",
    "library('emmeans')\n",
    "library('parameters')\n",
    "library('sjstats')\n",
    "library('sjPlot')\n",
    "library('lmerTest')\n",
    "library('ggeffects')\n",
    "library('buildmer')\n",
    "\n",
    "\n",
    "# Folders\n",
    "dir.data <- '../results'\n",
    "dir.out <- dir.data\n"
   ]
  },
  {
   "cell_type": "code",
   "execution_count": 2,
   "id": "bf09da23-f234-44c1-ada4-c80fcafc84fd",
   "metadata": {
    "tags": []
   },
   "outputs": [
    {
     "name": "stderr",
     "output_type": "stream",
     "text": [
      "\n",
      "\u001b[36m--\u001b[39m \u001b[1mColumn specification\u001b[22m \u001b[36m------------------------------------------------------------------------------------------------\u001b[39m\n",
      "cols(\n",
      "  .default = col_double(),\n",
      "  experiment = \u001b[31mcol_character()\u001b[39m,\n",
      "  scene = \u001b[31mcol_character()\u001b[39m,\n",
      "  target = \u001b[31mcol_character()\u001b[39m,\n",
      "  response_mode = \u001b[31mcol_character()\u001b[39m,\n",
      "  preview_label = \u001b[31mcol_character()\u001b[39m,\n",
      "  target_label = \u001b[31mcol_character()\u001b[39m,\n",
      "  VR_move_location_0 = \u001b[31mcol_character()\u001b[39m,\n",
      "  Eye_gaze_location_0 = \u001b[31mcol_character()\u001b[39m,\n",
      "  invalid_reason = \u001b[31mcol_character()\u001b[39m,\n",
      "  trial_status = \u001b[31mcol_character()\u001b[39m,\n",
      "  drop1_err_pos = \u001b[33mcol_logical()\u001b[39m,\n",
      "  drop2_err_pos = \u001b[33mcol_logical()\u001b[39m,\n",
      "  drop3_err_pos = \u001b[33mcol_logical()\u001b[39m,\n",
      "  drop4_err_pos = \u001b[33mcol_logical()\u001b[39m\n",
      ")\n",
      "\u001b[36mi\u001b[39m Use `spec()` for the full column specifications.\n",
      "\n",
      "\n",
      "\u001b[36m--\u001b[39m \u001b[1mColumn specification\u001b[22m \u001b[36m------------------------------------------------------------------------------------------------\u001b[39m\n",
      "cols(\n",
      "  .default = col_double(),\n",
      "  response_mode = \u001b[31mcol_character()\u001b[39m,\n",
      "  drop1_err_pos = \u001b[33mcol_logical()\u001b[39m,\n",
      "  drop2_err_pos = \u001b[33mcol_logical()\u001b[39m,\n",
      "  drop3_err_pos = \u001b[33mcol_logical()\u001b[39m,\n",
      "  drop4_err_pos = \u001b[33mcol_logical()\u001b[39m\n",
      ")\n",
      "\u001b[36mi\u001b[39m Use `spec()` for the full column specifications.\n",
      "\n",
      "\n",
      "\u001b[36m--\u001b[39m \u001b[1mColumn specification\u001b[22m \u001b[36m------------------------------------------------------------------------------------------------\u001b[39m\n",
      "cols(\n",
      "  ppid = \u001b[32mcol_double()\u001b[39m,\n",
      "  Scene = \u001b[31mcol_character()\u001b[39m,\n",
      "  session_num = \u001b[32mcol_double()\u001b[39m,\n",
      "  response_mode = \u001b[31mcol_character()\u001b[39m,\n",
      "  Mental = \u001b[32mcol_double()\u001b[39m,\n",
      "  Physical = \u001b[32mcol_double()\u001b[39m,\n",
      "  Temporal = \u001b[32mcol_double()\u001b[39m,\n",
      "  Performance = \u001b[32mcol_double()\u001b[39m,\n",
      "  Effort = \u001b[32mcol_double()\u001b[39m,\n",
      "  Frustration = \u001b[32mcol_double()\u001b[39m,\n",
      "  Global = \u001b[32mcol_double()\u001b[39m\n",
      ")\n",
      "\n"
     ]
    }
   ],
   "source": [
    "# Import datasets\n",
    "trials <- read_tsv(paste(dir.data, '/lmm_analysis_trials.csv', sep='')) # Trial responses\n",
    "trials_var <- read_tsv(paste(dir.data, '/lmm_analysis_stddev.csv', sep='')) # Aggregated SD values\n",
    "tlx <- read_tsv(paste(dir.data, '/lmm_analysis_tlx.csv', sep='')) # NASA TLX scores\n",
    "\n",
    "# Set factors\n",
    "trials$response_mode <- factor(trials$response_mode, levels=c('object', 'cube', 'fixed', 'laser'))\n",
    "trials$session_num <- factor(trials$session_num, levels=c(1, 2, 3, 4), order=T)\n",
    "trials_var$response_mode <- factor(trials_var$response_mode, levels=c('object', 'cube', 'fixed', 'laser'))\n",
    "trials_var$session_num <- factor(trials_var$session_num, levels=c(1, 2, 3, 4), order=T)\n",
    "tlx$response_mode <- factor(tlx$response_mode, levels=c('object', 'cube', 'fixed', 'laser'))\n",
    "tlx$session_num <- factor(tlx$session_num, levels=c(1, 2, 3, 4), order=T)\n"
   ]
  },
  {
   "cell_type": "markdown",
   "id": "f4168585-2289-4533-95c6-6c50af00f3fd",
   "metadata": {},
   "source": [
    "## Model Selection\n"
   ]
  },
  {
   "cell_type": "code",
   "execution_count": 3,
   "id": "994ee794-2ccf-43fb-b7f5-52fd8a34835d",
   "metadata": {},
   "outputs": [],
   "source": [
    "# Terms to include in all models evaluated by buildmer\n",
    "force.include <- 'response_mode + session_num + response_mode:session_num + (1|ppid)'"
   ]
  },
  {
   "cell_type": "markdown",
   "id": "1d1849cc-abe8-49de-a345-7e8c7018e7ec",
   "metadata": {},
   "source": [
    "### Accuracy"
   ]
  },
  {
   "cell_type": "code",
   "execution_count": 4,
   "id": "15cb5d6f-938e-46d0-8ce6-339a43d9d949",
   "metadata": {
    "tags": []
   },
   "outputs": [],
   "source": [
    "# Accuracy\n",
    "max.acc <- tar_error_pos ~ response_mode + session_num + response_mode:session_num + (1 + response_mode + session_num|ppid) + (1+ response_mode + session_num|target)\n",
    "#m.acc <- buildmer(max.acc, trials, buildmerControl=buildmerControl(include=force.include))\n",
    "\n",
    "#print(formula(m.acc@model))\n",
    "#print(m.acc)\n",
    "\n",
    "# 0. buildmer ends on:\n",
    "# tar_error_pos ~ 1 + response_mode + session_num + response_mode:session_num + (1 | ppid) + (1 + response_mode | target)\n",
    "# REML criterion at convergence: -12858.88\n",
    "\n",
    "# 1. Check if response_mode | ppid improves fit\n",
    "#m0 <- lmer(data=trials, tar_error_pos ~ 1 + response_mode + session_num + response_mode:session_num + (1 | ppid) + (1 + response_mode | target), REML=F)\n",
    "#m1 <- lmer(data=trials, tar_error_pos ~ 1 + response_mode + session_num + response_mode:session_num + (1 + response_mode | ppid) + (1 + response_mode | target), REML=F)\n",
    "#print(anova(m0, m1))\n",
    "\n",
    "# Result: Model with response_mode | ppid fits better\n",
    "#    npar    AIC    BIC logLik deviance  Chisq Df Pr(>Chisq)    \n",
    "# m0   28 -12968 -12800 6511.8   -13024                         \n",
    "# m1   37 -13120 -12899 6597.0   -13194 170.49  9  < 2.2e-16 ***\n",
    "# Note on negative logLik: https://stat.ethz.ch/pipermail/r-help/2005-April/069550.html\n",
    "\n",
    "\n",
    "# 2. Check if including session_num | ppid improves fit\n",
    "#m2 <- lmer(data=trials, tar_error_pos ~ 1 + response_mode + session_num + response_mode:session_num + (1 + response_mode + session_num | ppid) + (1 + response_mode | target), REML=F)\n",
    "\n",
    "# Result: m2 does not converge\n",
    "\n",
    "\n",
    "# 3. Check if session_num | target improves fit\n",
    "#m3 <- lmer(data=trials, tar_error_pos ~ 1 + response_mode + session_num + response_mode:session_num + (1 + response_mode | ppid) + (1 + response_mode + session_num | target), REML=F)\n",
    "\n",
    "# Result: m3 does not converge\n",
    "\n",
    "\n",
    "# FINAL model for Accuracy: \n",
    "f.acc <- tar_error_pos ~ 1 + response_mode + session_num + response_mode:session_num + (1 + response_mode | ppid) + (1 + response_mode | target)\n"
   ]
  },
  {
   "cell_type": "markdown",
   "id": "e6006a77-1fe4-41f5-94e0-f92037e7f5fc",
   "metadata": {},
   "source": [
    "### Precision"
   ]
  },
  {
   "cell_type": "code",
   "execution_count": 5,
   "id": "41fec04f-1034-4da2-9619-1d3989f59fc1",
   "metadata": {
    "tags": []
   },
   "outputs": [],
   "source": [
    "# Precison (pre-aggregated by session)\n",
    "max.prec <- tar_error_pos ~ response_mode + session_num + response_mode:session_num + (1 + response_mode + session_num | ppid)\n",
    "#m.prec <- buildmer(max.prec, trials_var, buildmerControl=buildmerControl(include=force.include))\n",
    "\n",
    "#print(formula(m.prec@model))\n",
    "\n",
    "# 0. buildmer ends on:\n",
    "# tar_error_pos ~ 1 + response_mode + session_num + response_mode:session_num + (1 | ppid)\n",
    "\n",
    "# For all additional RE terms, observations <= random effects, no convergence\n",
    "\n",
    "# FINAL model for Precision\n",
    "f.prec <- tar_error_pos ~ 1 + response_mode + session_num + response_mode:session_num + (1 | ppid)\n"
   ]
  },
  {
   "cell_type": "markdown",
   "id": "4949d61b-23bd-4483-b766-f9a1dc677295",
   "metadata": {},
   "source": [
    "### Response Duration"
   ]
  },
  {
   "cell_type": "code",
   "execution_count": 6,
   "id": "cd234ad5-17f1-4722-8102-3c04d7d5b6d3",
   "metadata": {
    "tags": []
   },
   "outputs": [],
   "source": [
    "# Response Duration\n",
    "max.rt <- response_duration ~ response_mode + session_num + response_mode:session_num + (1 +  response_mode + session_num|ppid) + (1+ response_mode + session_num|target)\n",
    "#m.rt <- buildmer(max.rt, trials, buildmerControl=buildmerControl(include=force.include))\n",
    "\n",
    "#print(formula(m.rt@model))\n",
    "\n",
    "# 0. buildmer ends on:\n",
    "# response_duration ~ 1 + response_mode + session_num + response_mode:session_num + (1 | ppid) + (1 | target)\n",
    "\n",
    "\n",
    "# 1. Check response_mode | ppid\n",
    "m0 <- lmer(data=trials, response_duration ~ 1 + response_mode + session_num + response_mode:session_num + (1 | ppid) + (1 | target), REML=F)\n",
    "#m1 <- lmer(data=trials, response_duration ~ 1 + response_mode + session_num + response_mode:session_num + (1 + response_mode | ppid) + (1 | target), REML=F)\n",
    "\n",
    "# Result: m1 does not converge\n",
    "\n",
    "\n",
    "# 2. Check session_num | ppid\n",
    "m2 <- lmer(data=trials, response_duration ~ 1 + response_mode + session_num + response_mode:session_num + (1 + session_num | ppid) + (1 | target), REML=F)\n",
    "#print(anova(m0, m2))\n",
    "\n",
    "# Result: Model with session_num | ppid fits better\n",
    "# m0   19 11146 11260 -5553.9    11108                         \n",
    "# m2   28 10529 10696 -5236.5    10473 634.78  9  < 2.2e-16 ***\n",
    "\n",
    "# 3. Check if session_num | target further improves fit\n",
    "#m3 <- lmer(data=trials, response_duration ~ 1 + response_mode + session_num + response_mode:session_num + (1 + session_num | ppid) + (1 + session_num | target), REML=F)\n",
    "\n",
    "# Result: m3 does not converge.\n",
    "\n",
    "# 4. Check if response_mode | target further improves fit\n",
    "#m4 <- lmer(data=trials, response_duration ~ 1 + response_mode + session_num + response_mode:session_num + (1 + session_num| ppid) + (1 + response_mode | target), REML=F)\n",
    "#print(anova(m4, m2))\n",
    "\n",
    "# Result: It does. \n",
    "# m2   28 10529 10696 -5236.5    10473                         \n",
    "# m4   37 10439 10660 -5182.5    10365 107.94  9  < 2.2e-16 ***\n",
    "\n",
    "# 5. Either adding \"+ response_mode | ppid\" or \"+ session_num | target\" fail to converge\n",
    "\n",
    "# FINAL model for response duration: \n",
    "f.rt <- response_duration ~ 1 + response_mode + session_num + response_mode:session_num + (1 + session_num| ppid) + (1 + response_mode | target)\n"
   ]
  },
  {
   "cell_type": "markdown",
   "id": "e2dd6377-76f4-48b3-a755-1efe28a26d9c",
   "metadata": {},
   "source": [
    "### TLX Score"
   ]
  },
  {
   "cell_type": "code",
   "execution_count": 7,
   "id": "0a046def-aa83-4113-a0d7-e5f5af4a9e4a",
   "metadata": {
    "tags": []
   },
   "outputs": [],
   "source": [
    "# Subjective Workload\n",
    "max.tlx <- Global ~ response_mode + session_num + response_mode:session_num + (1 + response_mode + session_num|ppid)\n",
    "#m.tlx <- buildmer(max.tlx, tlx, buildmerControl=buildmerControl(include=force.include))\n",
    "#print(formula(m.tlx@model))\n",
    "\n",
    "# 0. buildmer ends on:\n",
    "# Global ~ 1 + response_mode + session_num + response_mode:session_num + (1 | ppid)\n",
    "\n",
    "# For all additional RE terms, observations <= random effects, no convergence\n",
    "\n",
    "# FINAL model for TLX score\n",
    "f.tlx <- Global ~ 1 + response_mode + session_num + response_mode:session_num + (1 | ppid)"
   ]
  },
  {
   "cell_type": "markdown",
   "id": "55e6b380-73a6-42b0-919a-2058a0b1068f",
   "metadata": {},
   "source": [
    "## Final Models\n",
    "\n",
    "### Accuracy"
   ]
  },
  {
   "cell_type": "code",
   "execution_count": 8,
   "id": "0d5561f8-1505-426d-bcdb-ff1ba5424411",
   "metadata": {},
   "outputs": [
    {
     "name": "stdout",
     "output_type": "stream",
     "text": [
      "* ANOVA Omnibus Results + Statistics:\n",
      "Linear mixed model fit by REML. t-tests use Satterthwaite's method [\n",
      "lmerModLmerTest]\n",
      "Formula: f.acc\n",
      "   Data: trials\n",
      "\n",
      "REML criterion at convergence: -13048.9\n",
      "\n",
      "Scaled residuals: \n",
      "    Min      1Q  Median      3Q     Max \n",
      "-2.9638 -0.5886 -0.0900  0.4809  5.0118 \n",
      "\n",
      "Random effects:\n",
      " Groups   Name               Variance  Std.Dev. Corr             \n",
      " target   (Intercept)        8.157e-05 0.009032                  \n",
      "          response_modecube  4.864e-05 0.006974  0.06            \n",
      "          response_modefixed 9.648e-05 0.009822 -0.09  0.15      \n",
      "          response_modelaser 2.321e-04 0.015233 -0.54 -0.26  0.64\n",
      " ppid     (Intercept)        6.841e-05 0.008271                  \n",
      "          response_modecube  8.697e-05 0.009326 -0.20            \n",
      "          response_modefixed 3.249e-04 0.018024  0.03 -0.22      \n",
      "          response_modelaser 1.162e-04 0.010779  0.01  0.16  0.53\n",
      " Residual                    5.963e-04 0.024418                  \n",
      "Number of obs: 2932, groups:  target, 19; ppid, 16\n",
      "\n",
      "Fixed effects:\n",
      "                                   Estimate Std. Error         df t value\n",
      "(Intercept)                       0.0367462  0.0030715 23.0381071  11.964\n",
      "response_modecube                 0.0128107  0.0031091 14.3613188   4.120\n",
      "response_modefixed                0.0162533  0.0052020 13.6174373   3.124\n",
      "response_modelaser                0.0218754  0.0045982 22.6623332   4.757\n",
      "session_num.L                    -0.0017280  0.0036551 10.2074181  -0.473\n",
      "session_num.Q                     0.0027561  0.0036101 10.1432919   0.763\n",
      "session_num.C                    -0.0028463  0.0035913  9.9595402  -0.793\n",
      "response_modecube:session_num.L   0.0003159  0.0067514 20.8671956   0.047\n",
      "response_modefixed:session_num.L -0.0077933  0.0090312 14.8203370  -0.863\n",
      "response_modelaser:session_num.L -0.0039694  0.0063549 18.6475620  -0.625\n",
      "response_modecube:session_num.Q  -0.0154335  0.0060762 17.8822758  -2.540\n",
      "response_modefixed:session_num.Q -0.0017726  0.0088862 11.4868342  -0.199\n",
      "response_modelaser:session_num.Q  0.0018993  0.0064355 16.4329526   0.295\n",
      "response_modecube:session_num.C  -0.0067972  0.0066679 21.6981110  -1.019\n",
      "response_modefixed:session_num.C  0.0180380  0.0090165 14.9693756   2.001\n",
      "response_modelaser:session_num.C -0.0119235  0.0062850 17.8364392  -1.897\n",
      "                                 Pr(>|t|)    \n",
      "(Intercept)                      2.30e-11 ***\n",
      "response_modecube                0.000989 ***\n",
      "response_modefixed               0.007677 ** \n",
      "response_modelaser               8.83e-05 ***\n",
      "session_num.L                    0.646326    \n",
      "session_num.Q                    0.462589    \n",
      "session_num.C                    0.446514    \n",
      "response_modecube:session_num.L  0.963127    \n",
      "response_modefixed:session_num.L 0.401928    \n",
      "response_modelaser:session_num.L 0.539789    \n",
      "response_modecube:session_num.Q  0.020594 *  \n",
      "response_modefixed:session_num.Q 0.845374    \n",
      "response_modelaser:session_num.Q 0.771590    \n",
      "response_modecube:session_num.C  0.319247    \n",
      "response_modefixed:session_num.C 0.063917 .  \n",
      "response_modelaser:session_num.C 0.074122 .  \n",
      "---\n",
      "Signif. codes:  0 '***' 0.001 '**' 0.01 '*' 0.05 '.' 0.1 ' ' 1\n"
     ]
    },
    {
     "name": "stderr",
     "output_type": "stream",
     "text": [
      "\n",
      "Correlation matrix not shown by default, as p = 16 > 12.\n",
      "Use print(summary(model.acc), correlation=TRUE)  or\n",
      "    vcov(summary(model.acc))        if you need it\n",
      "\n",
      "\n"
     ]
    },
    {
     "name": "stdout",
     "output_type": "stream",
     "text": [
      "Type III Analysis of Variance Table with Satterthwaite's method\n",
      "                             Sum Sq   Mean Sq NumDF  DenDF F value    Pr(>F)\n",
      "response_mode             0.0237301 0.0079100     3 16.603 13.2662 0.0001137\n",
      "session_num               0.0030633 0.0010211     3 18.225  1.7125 0.1997241\n",
      "response_mode:session_num 0.0120405 0.0013378     9 20.030  2.2437 0.0634328\n",
      "                             \n",
      "response_mode             ***\n",
      "session_num                  \n",
      "response_mode:session_num .  \n",
      "---\n",
      "Signif. codes:  0 '***' 0.001 '**' 0.01 '*' 0.05 '.' 0.1 ' ' 1\n"
     ]
    }
   ],
   "source": [
    "# Fit final model\n",
    "model.acc <- lmer(data=trials, f.acc)\n",
    "\n",
    "# Model + Anova results\n",
    "cat('* ANOVA Omnibus Results + Statistics:\\n')\n",
    "print(summary(model.acc))\n",
    "print(anova(model.acc))\n"
   ]
  },
  {
   "cell_type": "code",
   "execution_count": 9,
   "id": "024fb1a4-5148-4276-b55e-d86d60563df5",
   "metadata": {},
   "outputs": [
    {
     "name": "stdout",
     "output_type": "stream",
     "text": [
      "\n",
      "\n",
      "* Post-Hoc Comparisons for Response Mode:\n"
     ]
    },
    {
     "name": "stderr",
     "output_type": "stream",
     "text": [
      "NOTE: Results may be misleading due to involvement in interactions\n",
      "\n"
     ]
    },
    {
     "name": "stdout",
     "output_type": "stream",
     "text": [
      " contrast       estimate      SE   df t.ratio p.value\n",
      " object - cube  -0.01281 0.00311 15.7 -4.119  0.0042 \n",
      " object - fixed -0.01625 0.00520 16.1 -3.124  0.0260 \n",
      " object - laser -0.02188 0.00460 23.8 -4.756  0.0005 \n",
      " cube - fixed   -0.00344 0.00621 16.0 -0.554  0.5871 \n",
      " cube - laser   -0.00906 0.00548 24.9 -1.655  0.3316 \n",
      " fixed - laser  -0.00562 0.00486 17.7 -1.157  0.5253 \n",
      "\n",
      "Results are averaged over the levels of: session_num \n",
      "Degrees-of-freedom method: kenward-roger \n",
      "P value adjustment: holm method for 6 tests \n"
     ]
    },
    {
     "name": "stderr",
     "output_type": "stream",
     "text": [
      "Since 'object' is a list, we are using the contrasts already present.\n",
      "\n"
     ]
    },
    {
     "name": "stdout",
     "output_type": "stream",
     "text": [
      " contrast         effect.size    SE   df lower.CL upper.CL\n",
      " (object - cube)       -0.525 0.128 15.7   -0.795   -0.254\n",
      " (object - fixed)      -0.666 0.213 16.1   -1.117   -0.214\n",
      " (object - laser)      -0.896 0.189 23.8   -1.286   -0.506\n",
      " (cube - fixed)        -0.141 0.254 16.0   -0.680    0.398\n",
      " (cube - laser)        -0.371 0.224 24.9   -0.833    0.091\n",
      " (fixed - laser)       -0.230 0.199 17.7   -0.649    0.188\n",
      "\n",
      "Results are averaged over the levels of: session_num \n",
      "sigma used for effect sizes: 0.02442 \n",
      "Degrees-of-freedom method: inherited from kenward-roger when re-gridding \n",
      "Confidence level used: 0.95 \n",
      "\n",
      "\n",
      "* Post-Hoc Comparisons for Session:\n"
     ]
    },
    {
     "name": "stderr",
     "output_type": "stream",
     "text": [
      "NOTE: Results may be misleading due to involvement in interactions\n",
      "\n"
     ]
    },
    {
     "name": "stdout",
     "output_type": "stream",
     "text": [
      " contrast estimate      SE   df t.ratio p.value\n",
      " 1 - 2     0.00368 0.00448 21.8  0.822  1.0000 \n",
      " 1 - 3     0.00169 0.00449 21.6  0.375  1.0000 \n",
      " 1 - 4     0.00751 0.00430 18.7  1.745  0.5847 \n",
      " 2 - 3    -0.00200 0.00430 18.8 -0.464  1.0000 \n",
      " 2 - 4     0.00383 0.00448 21.8  0.854  1.0000 \n",
      " 3 - 4     0.00582 0.00453 20.5  1.284  1.0000 \n",
      "\n",
      "Results are averaged over the levels of: response_mode \n",
      "Degrees-of-freedom method: kenward-roger \n",
      "P value adjustment: holm method for 6 tests \n"
     ]
    }
   ],
   "source": [
    "# Post-hoc contrasts\n",
    "cat('\\n\\n* Post-Hoc Comparisons for Response Mode:\\n')\n",
    "emm_response <- emmeans(model.acc, pairwise ~ response_mode, adjust=\"holm\")\n",
    "print(emm_response$contrasts)\n",
    "print(eff_size(emm_response, sigma = sigma(model.acc), edf = df.residual(model.acc)))\n",
    "\n",
    "cat('\\n\\n* Post-Hoc Comparisons for Session:\\n')\n",
    "print(emmeans(model.acc, pairwise ~ session_num, adjust=\"holm\")$contrasts)\n"
   ]
  },
  {
   "cell_type": "code",
   "execution_count": 10,
   "id": "1f1a49a0-0c3e-4c51-b326-f34ca87eaf9c",
   "metadata": {},
   "outputs": [
    {
     "name": "stdout",
     "output_type": "stream",
     "text": [
      "\n",
      "\n",
      "* Estimated Marginal Means for Response:\n"
     ]
    },
    {
     "name": "stderr",
     "output_type": "stream",
     "text": [
      "NOTE: Results may be misleading due to involvement in interactions\n",
      "\n"
     ]
    },
    {
     "data": {
      "text/html": [
       "<table class=\"dataframe\">\n",
       "<caption>A ggeffects: 4 × 6</caption>\n",
       "<thead>\n",
       "\t<tr><th scope=col>x</th><th scope=col>predicted</th><th scope=col>std.error</th><th scope=col>conf.low</th><th scope=col>conf.high</th><th scope=col>group</th></tr>\n",
       "\t<tr><th scope=col>&lt;fct&gt;</th><th scope=col>&lt;dbl&gt;</th><th scope=col>&lt;dbl&gt;</th><th scope=col>&lt;dbl&gt;</th><th scope=col>&lt;dbl&gt;</th><th scope=col>&lt;fct&gt;</th></tr>\n",
       "</thead>\n",
       "<tbody>\n",
       "\t<tr><td>object</td><td>0.03674621</td><td>0.003071520</td><td>0.03072614</td><td>0.04276628</td><td>1</td></tr>\n",
       "\t<tr><td>cube  </td><td>0.04955691</td><td>0.003974325</td><td>0.04176738</td><td>0.05734644</td><td>1</td></tr>\n",
       "\t<tr><td>fixed </td><td>0.05299952</td><td>0.005876542</td><td>0.04148171</td><td>0.06451733</td><td>1</td></tr>\n",
       "\t<tr><td>laser </td><td>0.05862162</td><td>0.004606887</td><td>0.04959229</td><td>0.06765095</td><td>1</td></tr>\n",
       "</tbody>\n",
       "</table>\n"
      ],
      "text/latex": [
       "A ggeffects: 4 × 6\n",
       "\\begin{tabular}{llllll}\n",
       " x & predicted & std.error & conf.low & conf.high & group\\\\\n",
       " <fct> & <dbl> & <dbl> & <dbl> & <dbl> & <fct>\\\\\n",
       "\\hline\n",
       "\t object & 0.03674621 & 0.003071520 & 0.03072614 & 0.04276628 & 1\\\\\n",
       "\t cube   & 0.04955691 & 0.003974325 & 0.04176738 & 0.05734644 & 1\\\\\n",
       "\t fixed  & 0.05299952 & 0.005876542 & 0.04148171 & 0.06451733 & 1\\\\\n",
       "\t laser  & 0.05862162 & 0.004606887 & 0.04959229 & 0.06765095 & 1\\\\\n",
       "\\end{tabular}\n"
      ],
      "text/markdown": [
       "\n",
       "A ggeffects: 4 × 6\n",
       "\n",
       "| x &lt;fct&gt; | predicted &lt;dbl&gt; | std.error &lt;dbl&gt; | conf.low &lt;dbl&gt; | conf.high &lt;dbl&gt; | group &lt;fct&gt; |\n",
       "|---|---|---|---|---|---|\n",
       "| object | 0.03674621 | 0.003071520 | 0.03072614 | 0.04276628 | 1 |\n",
       "| cube   | 0.04955691 | 0.003974325 | 0.04176738 | 0.05734644 | 1 |\n",
       "| fixed  | 0.05299952 | 0.005876542 | 0.04148171 | 0.06451733 | 1 |\n",
       "| laser  | 0.05862162 | 0.004606887 | 0.04959229 | 0.06765095 | 1 |\n",
       "\n"
      ],
      "text/plain": [
       "  x      predicted  std.error   conf.low   conf.high  group\n",
       "1 object 0.03674621 0.003071520 0.03072614 0.04276628 1    \n",
       "2 cube   0.04955691 0.003974325 0.04176738 0.05734644 1    \n",
       "3 fixed  0.05299952 0.005876542 0.04148171 0.06451733 1    \n",
       "4 laser  0.05862162 0.004606887 0.04959229 0.06765095 1    "
      ]
     },
     "metadata": {},
     "output_type": "display_data"
    },
    {
     "name": "stdout",
     "output_type": "stream",
     "text": [
      "\n",
      "\n",
      "* Estimated Marginal Means for Session:\n"
     ]
    },
    {
     "name": "stderr",
     "output_type": "stream",
     "text": [
      "NOTE: Results may be misleading due to involvement in interactions\n",
      "\n"
     ]
    },
    {
     "data": {
      "text/html": [
       "<table class=\"dataframe\">\n",
       "<caption>A ggeffects: 4 × 6</caption>\n",
       "<thead>\n",
       "\t<tr><th scope=col>x</th><th scope=col>predicted</th><th scope=col>std.error</th><th scope=col>conf.low</th><th scope=col>conf.high</th><th scope=col>group</th></tr>\n",
       "\t<tr><th scope=col>&lt;fct&gt;</th><th scope=col>&lt;dbl&gt;</th><th scope=col>&lt;dbl&gt;</th><th scope=col>&lt;dbl&gt;</th><th scope=col>&lt;dbl&gt;</th><th scope=col>&lt;fct&gt;</th></tr>\n",
       "</thead>\n",
       "<tbody>\n",
       "\t<tr><td>1</td><td>0.05269921</td><td>0.003980093</td><td>0.04489837</td><td>0.06050005</td><td>1</td></tr>\n",
       "\t<tr><td>2</td><td>0.04901888</td><td>0.003976334</td><td>0.04122541</td><td>0.05681235</td><td>1</td></tr>\n",
       "\t<tr><td>3</td><td>0.05101391</td><td>0.003967206</td><td>0.04323833</td><td>0.05878949</td><td>1</td></tr>\n",
       "\t<tr><td>4</td><td>0.04519226</td><td>0.003963689</td><td>0.03742357</td><td>0.05296095</td><td>1</td></tr>\n",
       "</tbody>\n",
       "</table>\n"
      ],
      "text/latex": [
       "A ggeffects: 4 × 6\n",
       "\\begin{tabular}{llllll}\n",
       " x & predicted & std.error & conf.low & conf.high & group\\\\\n",
       " <fct> & <dbl> & <dbl> & <dbl> & <dbl> & <fct>\\\\\n",
       "\\hline\n",
       "\t 1 & 0.05269921 & 0.003980093 & 0.04489837 & 0.06050005 & 1\\\\\n",
       "\t 2 & 0.04901888 & 0.003976334 & 0.04122541 & 0.05681235 & 1\\\\\n",
       "\t 3 & 0.05101391 & 0.003967206 & 0.04323833 & 0.05878949 & 1\\\\\n",
       "\t 4 & 0.04519226 & 0.003963689 & 0.03742357 & 0.05296095 & 1\\\\\n",
       "\\end{tabular}\n"
      ],
      "text/markdown": [
       "\n",
       "A ggeffects: 4 × 6\n",
       "\n",
       "| x &lt;fct&gt; | predicted &lt;dbl&gt; | std.error &lt;dbl&gt; | conf.low &lt;dbl&gt; | conf.high &lt;dbl&gt; | group &lt;fct&gt; |\n",
       "|---|---|---|---|---|---|\n",
       "| 1 | 0.05269921 | 0.003980093 | 0.04489837 | 0.06050005 | 1 |\n",
       "| 2 | 0.04901888 | 0.003976334 | 0.04122541 | 0.05681235 | 1 |\n",
       "| 3 | 0.05101391 | 0.003967206 | 0.04323833 | 0.05878949 | 1 |\n",
       "| 4 | 0.04519226 | 0.003963689 | 0.03742357 | 0.05296095 | 1 |\n",
       "\n"
      ],
      "text/plain": [
       "  x predicted  std.error   conf.low   conf.high  group\n",
       "1 1 0.05269921 0.003980093 0.04489837 0.06050005 1    \n",
       "2 2 0.04901888 0.003976334 0.04122541 0.05681235 1    \n",
       "3 3 0.05101391 0.003967206 0.04323833 0.05878949 1    \n",
       "4 4 0.04519226 0.003963689 0.03742357 0.05296095 1    "
      ]
     },
     "metadata": {},
     "output_type": "display_data"
    }
   ],
   "source": [
    "# emmeans for plot\n",
    "cat('\\n\\n* Estimated Marginal Means for Response:\\n')\n",
    "gemm.response <- ggemmeans(model.acc, terms=c('response_mode'))\n",
    "write.csv(gemm.response, paste(dir.out, 'emmeans_acc_response.csv', sep='/'), row.names = FALSE)\n",
    "gemm.response\n",
    "\n",
    "cat('\\n\\n* Estimated Marginal Means for Session:\\n')\n",
    "gemm.session <- ggemmeans(model.acc, terms=c('session_num'))\n",
    "write.csv(gemm.session, paste(dir.out, 'emmeans_acc_session.csv', sep='/'), row.names = FALSE)\n",
    "gemm.session\n"
   ]
  },
  {
   "cell_type": "code",
   "execution_count": 11,
   "id": "5bc8b036-fd4f-4da0-94e4-7764bbcfb42f",
   "metadata": {},
   "outputs": [
    {
     "data": {
      "text/plain": [
       "$response_mode\n",
       "\n",
       "$session_num\n"
      ]
     },
     "metadata": {},
     "output_type": "display_data"
    },
    {
     "data": {
      "image/png": "[encoded data removed]",
      "text/plain": [
       "plot without title"
      ]
     },
     "metadata": {
      "image/png": {
       "height": 420,
       "width": 420
      }
     },
     "output_type": "display_data"
    },
    {
     "data": {
      "image/png": "[encoded data removed]",
      "text/plain": [
       "plot without title"
      ]
     },
     "metadata": {
      "image/png": {
       "height": 420,
       "width": 420
      }
     },
     "output_type": "display_data"
    }
   ],
   "source": [
    "# Effects plots\n",
    "plot_model(model.acc, type='pred')"
   ]
  },
  {
   "cell_type": "markdown",
   "id": "d59a619a-60ba-4969-b161-ef28810a682d",
   "metadata": {},
   "source": [
    "### Precision"
   ]
  },
  {
   "cell_type": "code",
   "execution_count": 12,
   "id": "d2eddff5-7659-4fc1-82c2-21bdbbe6883f",
   "metadata": {},
   "outputs": [
    {
     "name": "stdout",
     "output_type": "stream",
     "text": [
      "* ANOVA Omnibus Results + Statistics:\n",
      "Linear mixed model fit by REML. t-tests use Satterthwaite's method [\n",
      "lmerModLmerTest]\n",
      "Formula: f.prec\n",
      "   Data: trials_var\n",
      "\n",
      "REML criterion at convergence: -300.5\n",
      "\n",
      "Scaled residuals: \n",
      "     Min       1Q   Median       3Q      Max \n",
      "-1.81283 -0.49569 -0.05784  0.56699  2.40567 \n",
      "\n",
      "Random effects:\n",
      " Groups   Name        Variance  Std.Dev.\n",
      " ppid     (Intercept) 3.053e-05 0.005526\n",
      " Residual             4.373e-05 0.006613\n",
      "Number of obs: 64, groups:  ppid, 16\n",
      "\n",
      "Fixed effects:\n",
      "                                   Estimate Std. Error         df t value\n",
      "(Intercept)                       0.0184607  0.0021544 34.9136685   8.569\n",
      "response_modecube                 0.0051094  0.0023380 33.7656609   2.185\n",
      "response_modefixed                0.0070626  0.0023380 33.7656609   3.021\n",
      "response_modelaser                0.0148544  0.0023380 33.7656609   6.353\n",
      "session_num.L                    -0.0006192  0.0037628 42.9626294  -0.165\n",
      "session_num.Q                     0.0012589  0.0037696 43.0892629   0.334\n",
      "session_num.C                    -0.0020516  0.0037247 41.6389559  -0.551\n",
      "response_modecube:session_num.L  -0.0004418  0.0056620 46.1739294  -0.078\n",
      "response_modefixed:session_num.L -0.0038495  0.0054594 44.0542384  -0.705\n",
      "response_modelaser:session_num.L -0.0063746  0.0053936 42.6712432  -1.182\n",
      "response_modecube:session_num.Q   0.0015887  0.0052836 41.8988689   0.301\n",
      "response_modefixed:session_num.Q -0.0003320  0.0056838 46.4381002  -0.058\n",
      "response_modelaser:session_num.Q -0.0000454  0.0055893 44.9356880  -0.008\n",
      "response_modecube:session_num.C  -0.0016582  0.0055720 44.6019747  -0.298\n",
      "response_modefixed:session_num.C  0.0059014  0.0053859 42.4866543   1.096\n",
      "response_modelaser:session_num.C -0.0055410  0.0053766 42.3815422  -1.031\n",
      "                                 Pr(>|t|)    \n",
      "(Intercept)                      4.18e-10 ***\n",
      "response_modecube                 0.03590 *  \n",
      "response_modefixed                0.00478 ** \n",
      "response_modelaser               3.10e-07 ***\n",
      "session_num.L                     0.87007    \n",
      "session_num.Q                     0.74003    \n",
      "session_num.C                     0.58470    \n",
      "response_modecube:session_num.L   0.93814    \n",
      "response_modefixed:session_num.L  0.48445    \n",
      "response_modelaser:session_num.L  0.24380    \n",
      "response_modecube:session_num.Q   0.76515    \n",
      "response_modefixed:session_num.Q  0.95367    \n",
      "response_modelaser:session_num.Q  0.99355    \n",
      "response_modecube:session_num.C   0.76740    \n",
      "response_modefixed:session_num.C  0.27938    \n",
      "response_modelaser:session_num.C  0.30858    \n",
      "---\n",
      "Signif. codes:  0 '***' 0.001 '**' 0.01 '*' 0.05 '.' 0.1 ' ' 1\n"
     ]
    },
    {
     "name": "stderr",
     "output_type": "stream",
     "text": [
      "\n",
      "Correlation matrix not shown by default, as p = 16 > 12.\n",
      "Use print(summary(model.prec), correlation=TRUE)  or\n",
      "    vcov(summary(model.prec))        if you need it\n",
      "\n",
      "\n",
      "Warning message in tidy.anova(model):\n",
      "\"The following column names in ANOVA output were not recognized or transformed: NumDF, DenDF\"\n"
     ]
    },
    {
     "name": "stdout",
     "output_type": "stream",
     "text": [
      "term                      | sumsq | meansq | NumDF |  DenDF | statistic | p.value | df | etasq | partial.etasq | omegasq | partial.omegasq | epsilonsq | cohens.f | power\n",
      "-------------------------------------------------------------------------------------------------------------------------------------------------------------------------\n",
      "response_mode             | 0.002 |  0.001 |     3 | 33.766 |    13.907 |  < .001 |    | 0.447 |         0.524 |         |                 |           |    1.050 |      \n",
      "session_num               | 0.000 |  0.000 |     3 | 33.766 |     2.303 |   0.095 |    | 0.074 |         0.154 |         |                 |           |    0.427 |      \n",
      "response_mode:session_num | 0.000 |  0.000 |     9 | 42.333 |     0.758 |   0.654 |    | 0.073 |         0.153 |         |                 |           |    0.425 |      \n",
      "Residuals                 | 0.002 |  0.000 |       |        |           |         | 64 |       |               |         |                 |           |          |      \n"
     ]
    }
   ],
   "source": [
    "# Fit final model\n",
    "model.prec <- lmer(data=trials_var, f.prec)\n",
    "\n",
    "# Model + Anova results\n",
    "cat('* ANOVA Omnibus Results + Statistics:\\n')\n",
    "print(summary(model.prec))\n",
    "print(anova_stats(model.prec))\n"
   ]
  },
  {
   "cell_type": "code",
   "execution_count": 13,
   "id": "a1f4ff43-6ba1-4e3c-8f21-ae9061364901",
   "metadata": {},
   "outputs": [
    {
     "name": "stdout",
     "output_type": "stream",
     "text": [
      "\n",
      "\n",
      "* Post-Hoc Comparisons for Response Mode:\n"
     ]
    },
    {
     "name": "stderr",
     "output_type": "stream",
     "text": [
      "NOTE: Results may be misleading due to involvement in interactions\n",
      "\n"
     ]
    },
    {
     "name": "stdout",
     "output_type": "stream",
     "text": [
      " contrast       estimate      SE   df t.ratio p.value\n",
      " object - cube  -0.00511 0.00234 33.2 -2.185  0.0721 \n",
      " object - fixed -0.00706 0.00234 33.2 -3.021  0.0145 \n",
      " object - laser -0.01485 0.00234 33.2 -6.353  <.0001 \n",
      " cube - fixed   -0.00195 0.00234 33.2 -0.835  0.4095 \n",
      " cube - laser   -0.00975 0.00234 33.2 -4.168  0.0010 \n",
      " fixed - laser  -0.00779 0.00234 33.2 -3.333  0.0085 \n",
      "\n",
      "Results are averaged over the levels of: session_num \n",
      "Degrees-of-freedom method: kenward-roger \n",
      "P value adjustment: holm method for 6 tests \n"
     ]
    },
    {
     "name": "stderr",
     "output_type": "stream",
     "text": [
      "Since 'object' is a list, we are using the contrasts already present.\n",
      "\n"
     ]
    },
    {
     "name": "stdout",
     "output_type": "stream",
     "text": [
      " contrast         effect.size    SE   df lower.CL upper.CL\n",
      " (object - cube)       -0.773 0.363 33.2    -1.51   -0.035\n",
      " (object - fixed)      -1.068 0.371 33.2    -1.82   -0.314\n",
      " (object - laser)      -2.246 0.424 33.2    -3.11   -1.384\n",
      " (cube - fixed)        -0.295 0.355 33.2    -1.02    0.427\n",
      " (cube - laser)        -1.474 0.385 33.2    -2.26   -0.689\n",
      " (fixed - laser)       -1.178 0.374 33.2    -1.94   -0.417\n",
      "\n",
      "Results are averaged over the levels of: session_num \n",
      "sigma used for effect sizes: 0.006613 \n",
      "Degrees-of-freedom method: inherited from kenward-roger when re-gridding \n",
      "Confidence level used: 0.95 \n",
      "\n",
      "\n",
      "* Post-Hoc Comparisons for Session:\n"
     ]
    },
    {
     "name": "stderr",
     "output_type": "stream",
     "text": [
      "NOTE: Results may be misleading due to involvement in interactions\n",
      "\n"
     ]
    },
    {
     "name": "stdout",
     "output_type": "stream",
     "text": [
      " contrast  estimate      SE   df t.ratio p.value\n",
      " 1 - 2     0.005156 0.00234 33.2  2.205  0.1723 \n",
      " 1 - 3     0.003438 0.00234 33.2  1.470  0.6035 \n",
      " 1 - 4     0.005471 0.00234 33.2  2.340  0.1527 \n",
      " 2 - 3    -0.001718 0.00234 33.2 -0.735  1.0000 \n",
      " 2 - 4     0.000314 0.00234 33.2  0.134  1.0000 \n",
      " 3 - 4     0.002033 0.00234 33.2  0.869  1.0000 \n",
      "\n",
      "Results are averaged over the levels of: response_mode \n",
      "Degrees-of-freedom method: kenward-roger \n",
      "P value adjustment: holm method for 6 tests \n"
     ]
    }
   ],
   "source": [
    "# Post-hoc contrasts\n",
    "cat('\\n\\n* Post-Hoc Comparisons for Response Mode:\\n')\n",
    "emm_response <- emmeans(model.prec, pairwise ~ response_mode, adjust=\"holm\")\n",
    "print(emm_response$contrasts)\n",
    "print(eff_size(emm_response, sigma = sigma(model.prec), edf = df.residual(model.prec)))\n",
    "\n",
    "cat('\\n\\n* Post-Hoc Comparisons for Session:\\n')\n",
    "print(emmeans(model.prec, pairwise ~ session_num, adjust=\"holm\")$contrasts)\n"
   ]
  },
  {
   "cell_type": "code",
   "execution_count": 14,
   "id": "38c7fb09-7405-493e-a05b-1087865af330",
   "metadata": {},
   "outputs": [
    {
     "name": "stdout",
     "output_type": "stream",
     "text": [
      "\n",
      "\n",
      "* Estimated Marginal Means for Response:\n"
     ]
    },
    {
     "name": "stderr",
     "output_type": "stream",
     "text": [
      "NOTE: Results may be misleading due to involvement in interactions\n",
      "\n"
     ]
    },
    {
     "data": {
      "text/html": [
       "<table class=\"dataframe\">\n",
       "<caption>A ggeffects: 4 × 6</caption>\n",
       "<thead>\n",
       "\t<tr><th scope=col>x</th><th scope=col>predicted</th><th scope=col>std.error</th><th scope=col>conf.low</th><th scope=col>conf.high</th><th scope=col>group</th></tr>\n",
       "\t<tr><th scope=col>&lt;fct&gt;</th><th scope=col>&lt;dbl&gt;</th><th scope=col>&lt;dbl&gt;</th><th scope=col>&lt;dbl&gt;</th><th scope=col>&lt;dbl&gt;</th><th scope=col>&lt;fct&gt;</th></tr>\n",
       "</thead>\n",
       "<tbody>\n",
       "\t<tr><td>object</td><td>0.01846072</td><td>0.002154434</td><td>0.01423810</td><td>0.02268333</td><td>1</td></tr>\n",
       "\t<tr><td>cube  </td><td>0.02357007</td><td>0.002154434</td><td>0.01934745</td><td>0.02779268</td><td>1</td></tr>\n",
       "\t<tr><td>fixed </td><td>0.02552327</td><td>0.002154434</td><td>0.02130066</td><td>0.02974589</td><td>1</td></tr>\n",
       "\t<tr><td>laser </td><td>0.03331510</td><td>0.002154434</td><td>0.02909248</td><td>0.03753771</td><td>1</td></tr>\n",
       "</tbody>\n",
       "</table>\n"
      ],
      "text/latex": [
       "A ggeffects: 4 × 6\n",
       "\\begin{tabular}{llllll}\n",
       " x & predicted & std.error & conf.low & conf.high & group\\\\\n",
       " <fct> & <dbl> & <dbl> & <dbl> & <dbl> & <fct>\\\\\n",
       "\\hline\n",
       "\t object & 0.01846072 & 0.002154434 & 0.01423810 & 0.02268333 & 1\\\\\n",
       "\t cube   & 0.02357007 & 0.002154434 & 0.01934745 & 0.02779268 & 1\\\\\n",
       "\t fixed  & 0.02552327 & 0.002154434 & 0.02130066 & 0.02974589 & 1\\\\\n",
       "\t laser  & 0.03331510 & 0.002154434 & 0.02909248 & 0.03753771 & 1\\\\\n",
       "\\end{tabular}\n"
      ],
      "text/markdown": [
       "\n",
       "A ggeffects: 4 × 6\n",
       "\n",
       "| x &lt;fct&gt; | predicted &lt;dbl&gt; | std.error &lt;dbl&gt; | conf.low &lt;dbl&gt; | conf.high &lt;dbl&gt; | group &lt;fct&gt; |\n",
       "|---|---|---|---|---|---|\n",
       "| object | 0.01846072 | 0.002154434 | 0.01423810 | 0.02268333 | 1 |\n",
       "| cube   | 0.02357007 | 0.002154434 | 0.01934745 | 0.02779268 | 1 |\n",
       "| fixed  | 0.02552327 | 0.002154434 | 0.02130066 | 0.02974589 | 1 |\n",
       "| laser  | 0.03331510 | 0.002154434 | 0.02909248 | 0.03753771 | 1 |\n",
       "\n"
      ],
      "text/plain": [
       "  x      predicted  std.error   conf.low   conf.high  group\n",
       "1 object 0.01846072 0.002154434 0.01423810 0.02268333 1    \n",
       "2 cube   0.02357007 0.002154434 0.01934745 0.02779268 1    \n",
       "3 fixed  0.02552327 0.002154434 0.02130066 0.02974589 1    \n",
       "4 laser  0.03331510 0.002154434 0.02909248 0.03753771 1    "
      ]
     },
     "metadata": {},
     "output_type": "display_data"
    },
    {
     "name": "stdout",
     "output_type": "stream",
     "text": [
      "\n",
      "\n",
      "* Estimated Marginal Means for Session:\n"
     ]
    },
    {
     "name": "stderr",
     "output_type": "stream",
     "text": [
      "NOTE: Results may be misleading due to involvement in interactions\n",
      "\n"
     ]
    },
    {
     "data": {
      "text/html": [
       "<table class=\"dataframe\">\n",
       "<caption>A ggeffects: 4 × 6</caption>\n",
       "<thead>\n",
       "\t<tr><th scope=col>x</th><th scope=col>predicted</th><th scope=col>std.error</th><th scope=col>conf.low</th><th scope=col>conf.high</th><th scope=col>group</th></tr>\n",
       "\t<tr><th scope=col>&lt;fct&gt;</th><th scope=col>&lt;dbl&gt;</th><th scope=col>&lt;dbl&gt;</th><th scope=col>&lt;dbl&gt;</th><th scope=col>&lt;dbl&gt;</th><th scope=col>&lt;fct&gt;</th></tr>\n",
       "</thead>\n",
       "<tbody>\n",
       "\t<tr><td>1</td><td>0.02873352</td><td>0.002154434</td><td>0.02451091</td><td>0.03295613</td><td>1</td></tr>\n",
       "\t<tr><td>2</td><td>0.02357721</td><td>0.002154434</td><td>0.01935460</td><td>0.02779982</td><td>1</td></tr>\n",
       "\t<tr><td>3</td><td>0.02529565</td><td>0.002154434</td><td>0.02107304</td><td>0.02951827</td><td>1</td></tr>\n",
       "\t<tr><td>4</td><td>0.02326277</td><td>0.002154434</td><td>0.01904016</td><td>0.02748538</td><td>1</td></tr>\n",
       "</tbody>\n",
       "</table>\n"
      ],
      "text/latex": [
       "A ggeffects: 4 × 6\n",
       "\\begin{tabular}{llllll}\n",
       " x & predicted & std.error & conf.low & conf.high & group\\\\\n",
       " <fct> & <dbl> & <dbl> & <dbl> & <dbl> & <fct>\\\\\n",
       "\\hline\n",
       "\t 1 & 0.02873352 & 0.002154434 & 0.02451091 & 0.03295613 & 1\\\\\n",
       "\t 2 & 0.02357721 & 0.002154434 & 0.01935460 & 0.02779982 & 1\\\\\n",
       "\t 3 & 0.02529565 & 0.002154434 & 0.02107304 & 0.02951827 & 1\\\\\n",
       "\t 4 & 0.02326277 & 0.002154434 & 0.01904016 & 0.02748538 & 1\\\\\n",
       "\\end{tabular}\n"
      ],
      "text/markdown": [
       "\n",
       "A ggeffects: 4 × 6\n",
       "\n",
       "| x &lt;fct&gt; | predicted &lt;dbl&gt; | std.error &lt;dbl&gt; | conf.low &lt;dbl&gt; | conf.high &lt;dbl&gt; | group &lt;fct&gt; |\n",
       "|---|---|---|---|---|---|\n",
       "| 1 | 0.02873352 | 0.002154434 | 0.02451091 | 0.03295613 | 1 |\n",
       "| 2 | 0.02357721 | 0.002154434 | 0.01935460 | 0.02779982 | 1 |\n",
       "| 3 | 0.02529565 | 0.002154434 | 0.02107304 | 0.02951827 | 1 |\n",
       "| 4 | 0.02326277 | 0.002154434 | 0.01904016 | 0.02748538 | 1 |\n",
       "\n"
      ],
      "text/plain": [
       "  x predicted  std.error   conf.low   conf.high  group\n",
       "1 1 0.02873352 0.002154434 0.02451091 0.03295613 1    \n",
       "2 2 0.02357721 0.002154434 0.01935460 0.02779982 1    \n",
       "3 3 0.02529565 0.002154434 0.02107304 0.02951827 1    \n",
       "4 4 0.02326277 0.002154434 0.01904016 0.02748538 1    "
      ]
     },
     "metadata": {},
     "output_type": "display_data"
    }
   ],
   "source": [
    "# emmeans for plot\n",
    "cat('\\n\\n* Estimated Marginal Means for Response:\\n')\n",
    "gemm.response <- ggemmeans(model.prec, terms=c('response_mode'))\n",
    "write.csv(gemm.response, paste(dir.out, 'emmeans_prec_response.csv', sep='/'), row.names = FALSE)\n",
    "gemm.response\n",
    "\n",
    "cat('\\n\\n* Estimated Marginal Means for Session:\\n')\n",
    "gemm.session <- ggemmeans(model.prec, terms=c('session_num'))\n",
    "write.csv(gemm.session, paste(dir.out, 'emmeans_prec_session.csv', sep='/'), row.names = FALSE)\n",
    "gemm.session\n"
   ]
  },
  {
   "cell_type": "code",
   "execution_count": 15,
   "id": "8f6200e0-414c-46b9-a711-6745bc4064f5",
   "metadata": {},
   "outputs": [
    {
     "data": {
      "text/plain": [
       "$response_mode\n",
       "\n",
       "$session_num\n"
      ]
     },
     "metadata": {},
     "output_type": "display_data"
    },
    {
     "data": {
      "image/png": "[encoded data removed]",
      "text/plain": [
       "plot without title"
      ]
     },
     "metadata": {
      "image/png": {
       "height": 420,
       "width": 420
      }
     },
     "output_type": "display_data"
    },
    {
     "data": {
      "image/png": "[encoded data removed]",
      "text/plain": [
       "plot without title"
      ]
     },
     "metadata": {
      "image/png": {
       "height": 420,
       "width": 420
      }
     },
     "output_type": "display_data"
    }
   ],
   "source": [
    "# Effects plots\n",
    "plot_model(model.prec, type='pred')"
   ]
  },
  {
   "cell_type": "markdown",
   "id": "a17eacd5-9eed-473d-8963-e94a8d8726a9",
   "metadata": {},
   "source": [
    "### Response Duration"
   ]
  },
  {
   "cell_type": "code",
   "execution_count": 16,
   "id": "17e1a687-6c10-43f5-a627-655e2c49e108",
   "metadata": {},
   "outputs": [
    {
     "name": "stdout",
     "output_type": "stream",
     "text": [
      "* ANOVA Omntrials_varsults + Statistics:\n",
      "Linear mixed model fit by REML. t-tests use Satterthwaite's method [\n",
      "lmerModLmerTest]\n",
      "Formula: f.rt\n",
      "   Data: trials\n",
      "\n",
      "REML criterion at convergence: 10367.4\n",
      "\n",
      "Scaled residuals: \n",
      "    Min      1Q  Median      3Q     Max \n",
      "-4.0733 -0.4839 -0.1396  0.3007  7.0792 \n",
      "\n",
      "Random effects:\n",
      " Groups   Name               Variance Std.Dev. Corr             \n",
      " target   (Intercept)        0.7244   0.8511                    \n",
      "          response_modecube  0.3039   0.5513   -0.83            \n",
      "          response_modefixed 0.4480   0.6693   -0.91  0.91      \n",
      "          response_modelaser 0.5962   0.7721   -0.98  0.83  0.96\n",
      " ppid     (Intercept)        1.0164   1.0082                    \n",
      "          session_num.L      0.9298   0.9643    0.38            \n",
      "          session_num.Q      1.7768   1.3330   -0.09 -0.24      \n",
      "          session_num.C      0.7552   0.8690    0.21  0.75 -0.15\n",
      " Residual                    1.8217   1.3497                    \n",
      "Number of obs: 2932, groups:  target, 19; ppid, 16\n",
      "\n",
      "Fixed effects:\n",
      "                                 Estimate Std. Error       df t value Pr(>|t|)\n",
      "(Intercept)                       7.59495    0.37412 43.37832  20.301  < 2e-16\n",
      "response_modecube                -1.46997    0.32776 27.47686  -4.485 0.000117\n",
      "response_modefixed               -4.31460    0.36735 39.74167 -11.745 1.69e-14\n",
      "response_modelaser               -5.65771    0.35454 32.47817 -15.958  < 2e-16\n",
      "session_num.L                    -0.71033    0.64187 28.36392  -1.107 0.277744\n",
      "session_num.Q                     0.47911    0.49775 26.58291   0.963 0.344453\n",
      "session_num.C                    -0.55745    0.45506 24.33850  -1.225 0.232302\n",
      "response_modecube:session_num.L  -0.07649    0.98981 26.16610  -0.077 0.938992\n",
      "response_modefixed:session_num.L  1.30660    0.95451 27.60223   1.369 0.182077\n",
      "response_modelaser:session_num.L  0.90133    0.95295 27.56352   0.946 0.352455\n",
      "response_modecube:session_num.Q  -0.31431    0.57086 13.82340  -0.551 0.590703\n",
      "response_modefixed:session_num.Q  0.28483    0.61119 14.65690   0.466 0.648041\n",
      "response_modelaser:session_num.Q -0.45090    0.61029 14.97670  -0.739 0.471437\n",
      "response_modecube:session_num.C   0.67570    0.71211 24.31205   0.949 0.352024\n",
      "response_modefixed:session_num.C -0.12422    0.60651 18.31568  -0.205 0.839976\n",
      "response_modelaser:session_num.C  1.08110    0.57563 16.29718   1.878 0.078376\n",
      "                                    \n",
      "(Intercept)                      ***\n",
      "response_modecube                ***\n",
      "response_modefixed               ***\n",
      "response_modelaser               ***\n",
      "session_num.L                       \n",
      "session_num.Q                       \n",
      "session_num.C                       \n",
      "response_modecube:session_num.L     \n",
      "response_modefixed:session_num.L    \n",
      "response_modelaser:session_num.L    \n",
      "response_modecube:session_num.Q     \n",
      "response_modefixed:session_num.Q    \n",
      "response_modelaser:session_num.Q    \n",
      "response_modecube:session_num.C     \n",
      "response_modefixed:session_num.C    \n",
      "response_modelaser:session_num.C .  \n",
      "---\n",
      "Signif. codes:  0 '***' 0.001 '**' 0.01 '*' 0.05 '.' 0.1 ' ' 1\n"
     ]
    },
    {
     "name": "stderr",
     "output_type": "stream",
     "text": [
      "\n",
      "Correlation matrix not shown by default, as p = 16 > 12.\n",
      "Use print(summary(model.rt), correlation=TRUE)  or\n",
      "    vcov(summary(model.rt))        if you need it\n",
      "\n",
      "\n",
      "Warning message in tidy.anova(model):\n",
      "\"The following column names in ANOVA output were not recognized or transformed: NumDF, DenDF\"\n"
     ]
    },
    {
     "name": "stdout",
     "output_type": "stream",
     "text": [
      "term                      |    sumsq |  meansq | NumDF |  DenDF | statistic | p.value |   df | etasq | partial.etasq | omegasq | partial.omegasq | epsilonsq | cohens.f | power\n",
      "-------------------------------------------------------------------------------------------------------------------------------------------------------------------------------\n",
      "response_mode             |  532.110 | 177.370 |     3 | 26.485 |    97.365 |  < .001 |      | 0.093 |         0.093 |         |                 |           |    0.321 |      \n",
      "session_num               |    2.611 |   0.870 |     3 | 10.579 |     0.478 |   0.704 |      | 0.000 |         0.001 |         |                 |           |    0.022 |      \n",
      "response_mode:session_num |   18.903 |   2.100 |     9 | 18.034 |     1.153 |   0.379 |      | 0.003 |         0.004 |         |                 |           |    0.061 |      \n",
      "Residuals                 | 5160.955 |   1.760 |       |        |           |         | 2932 |       |               |         |                 |           |          |      \n"
     ]
    }
   ],
   "source": [
    "# Fit final model\n",
    "model.rt <- lmer(data=trials, f.rt)\n",
    "\n",
    "# Model + Anova results\n",
    "cat('* ANOVA Omntrials_varsults + Statistics:\\n')\n",
    "print(summary(model.rt))\n",
    "print(anova_stats(model.rt))\n"
   ]
  },
  {
   "cell_type": "code",
   "execution_count": 17,
   "id": "64cc10c5-757c-4dc2-9b75-c6dd9174068b",
   "metadata": {},
   "outputs": [
    {
     "name": "stdout",
     "output_type": "stream",
     "text": [
      "\n",
      "\n",
      "* Post-Hoc Comparisons for Response Mode:\n"
     ]
    },
    {
     "name": "stderr",
     "output_type": "stream",
     "text": [
      "NOTE: Results may be misleading due to involvement in interactions\n",
      "\n"
     ]
    },
    {
     "name": "stdout",
     "output_type": "stream",
     "text": [
      " contrast       estimate    SE   df t.ratio p.value\n",
      " object - cube      1.47 0.401 26.7  3.669  0.0021 \n",
      " object - fixed     4.31 0.441 39.1  9.791  <.0001 \n",
      " object - laser     5.66 0.423 32.1 13.367  <.0001 \n",
      " cube - fixed       2.84 0.417 31.3  6.829  <.0001 \n",
      " cube - laser       4.19 0.394 26.0 10.628  <.0001 \n",
      " fixed - laser      1.34 0.371 19.4  3.623  0.0021 \n",
      "\n",
      "Results are averaged over the levels of: session_num \n",
      "Degrees-of-freedom method: kenward-roger \n",
      "P value adjustment: holm method for 6 tests \n"
     ]
    },
    {
     "name": "stderr",
     "output_type": "stream",
     "text": [
      "Since 'object' is a list, we are using the contrasts already present.\n",
      "\n"
     ]
    },
    {
     "name": "stdout",
     "output_type": "stream",
     "text": [
      " contrast         effect.size    SE   df lower.CL upper.CL\n",
      " (object - cube)        1.089 0.297 26.7    0.479     1.70\n",
      " (object - fixed)       3.197 0.329 39.1    2.531     3.86\n",
      " (object - laser)       4.192 0.318 32.1    3.543     4.84\n",
      " (cube - fixed)         2.108 0.310 31.3    1.476     2.74\n",
      " (cube - laser)         3.103 0.295 26.0    2.497     3.71\n",
      " (fixed - laser)        0.995 0.275 19.4    0.420     1.57\n",
      "\n",
      "Results are averaged over the levels of: session_num \n",
      "sigma used for effect sizes: 1.35 \n",
      "Degrees-of-freedom method: inherited from kenward-roger when re-gridding \n",
      "Confidence level used: 0.95 \n",
      "\n",
      "\n",
      "* Post-Hoc Comparisons for Session:\n"
     ]
    },
    {
     "name": "stderr",
     "output_type": "stream",
     "text": [
      "NOTE: Results may be misleading due to involvement in interactions\n",
      "\n"
     ]
    },
    {
     "name": "stdout",
     "output_type": "stream",
     "text": [
      " contrast estimate    SE    df t.ratio p.value\n",
      " 1 - 2       0.572 0.483 12.02  1.183  1.0000 \n",
      " 1 - 3       0.451 0.407 11.18  1.108  1.0000 \n",
      " 1 - 4       0.305 0.408 10.76  0.747  1.0000 \n",
      " 2 - 3      -0.121 0.233  9.61 -0.520  1.0000 \n",
      " 2 - 4      -0.267 0.339 10.39 -0.787  1.0000 \n",
      " 3 - 4      -0.146 0.401 11.13 -0.365  1.0000 \n",
      "\n",
      "Results are averaged over the levels of: response_mode \n",
      "Degrees-of-freedom method: kenward-roger \n",
      "P value adjustment: holm method for 6 tests \n"
     ]
    }
   ],
   "source": [
    "# Post-hoc contrasts\n",
    "cat('\\n\\n* Post-Hoc Comparisons for Response Mode:\\n')\n",
    "emm_response <- emmeans(model.rt, pairwise ~ response_mode, adjust=\"holm\")\n",
    "print(emm_response$contrasts)\n",
    "print(eff_size(emm_response, sigma = sigma(model.rt), edf = df.residual(model.rt)))\n",
    "\n",
    "cat('\\n\\n* Post-Hoc Comparisons for Session:\\n')\n",
    "print(emmeans(model.rt, pairwise ~ session_num, adjust=\"holm\")$contrasts)\n"
   ]
  },
  {
   "cell_type": "code",
   "execution_count": 18,
   "id": "79ec25ea-2d11-4db2-8dcb-111bce5f63ff",
   "metadata": {},
   "outputs": [
    {
     "name": "stdout",
     "output_type": "stream",
     "text": [
      "\n",
      "\n",
      "* Estimated Marginal Means for Response:\n"
     ]
    },
    {
     "name": "stderr",
     "output_type": "stream",
     "text": [
      "NOTE: Results may be misleading due to involvement in interactions\n",
      "\n"
     ]
    },
    {
     "data": {
      "text/html": [
       "<table class=\"dataframe\">\n",
       "<caption>A ggeffects: 4 × 6</caption>\n",
       "<thead>\n",
       "\t<tr><th scope=col>x</th><th scope=col>predicted</th><th scope=col>std.error</th><th scope=col>conf.low</th><th scope=col>conf.high</th><th scope=col>group</th></tr>\n",
       "\t<tr><th scope=col>&lt;fct&gt;</th><th scope=col>&lt;dbl&gt;</th><th scope=col>&lt;dbl&gt;</th><th scope=col>&lt;dbl&gt;</th><th scope=col>&lt;dbl&gt;</th><th scope=col>&lt;fct&gt;</th></tr>\n",
       "</thead>\n",
       "<tbody>\n",
       "\t<tr><td>object</td><td>7.594952</td><td>0.3741232</td><td>6.861684</td><td>8.328220</td><td>1</td></tr>\n",
       "\t<tr><td>cube  </td><td>6.124981</td><td>0.3389649</td><td>5.460622</td><td>6.789339</td><td>1</td></tr>\n",
       "\t<tr><td>fixed </td><td>3.280350</td><td>0.3338271</td><td>2.626060</td><td>3.934639</td><td>1</td></tr>\n",
       "\t<tr><td>laser </td><td>1.937238</td><td>0.3126210</td><td>1.324512</td><td>2.549964</td><td>1</td></tr>\n",
       "</tbody>\n",
       "</table>\n"
      ],
      "text/latex": [
       "A ggeffects: 4 × 6\n",
       "\\begin{tabular}{llllll}\n",
       " x & predicted & std.error & conf.low & conf.high & group\\\\\n",
       " <fct> & <dbl> & <dbl> & <dbl> & <dbl> & <fct>\\\\\n",
       "\\hline\n",
       "\t object & 7.594952 & 0.3741232 & 6.861684 & 8.328220 & 1\\\\\n",
       "\t cube   & 6.124981 & 0.3389649 & 5.460622 & 6.789339 & 1\\\\\n",
       "\t fixed  & 3.280350 & 0.3338271 & 2.626060 & 3.934639 & 1\\\\\n",
       "\t laser  & 1.937238 & 0.3126210 & 1.324512 & 2.549964 & 1\\\\\n",
       "\\end{tabular}\n"
      ],
      "text/markdown": [
       "\n",
       "A ggeffects: 4 × 6\n",
       "\n",
       "| x &lt;fct&gt; | predicted &lt;dbl&gt; | std.error &lt;dbl&gt; | conf.low &lt;dbl&gt; | conf.high &lt;dbl&gt; | group &lt;fct&gt; |\n",
       "|---|---|---|---|---|---|\n",
       "| object | 7.594952 | 0.3741232 | 6.861684 | 8.328220 | 1 |\n",
       "| cube   | 6.124981 | 0.3389649 | 5.460622 | 6.789339 | 1 |\n",
       "| fixed  | 3.280350 | 0.3338271 | 2.626060 | 3.934639 | 1 |\n",
       "| laser  | 1.937238 | 0.3126210 | 1.324512 | 2.549964 | 1 |\n",
       "\n"
      ],
      "text/plain": [
       "  x      predicted std.error conf.low conf.high group\n",
       "1 object 7.594952  0.3741232 6.861684 8.328220  1    \n",
       "2 cube   6.124981  0.3389649 5.460622 6.789339  1    \n",
       "3 fixed  3.280350  0.3338271 2.626060 3.934639  1    \n",
       "4 laser  1.937238  0.3126210 1.324512 2.549964  1    "
      ]
     },
     "metadata": {},
     "output_type": "display_data"
    },
    {
     "name": "stdout",
     "output_type": "stream",
     "text": [
      "\n",
      "\n",
      "* Estimated Marginal Means for Session:\n"
     ]
    },
    {
     "name": "stderr",
     "output_type": "stream",
     "text": [
      "NOTE: Results may be misleading due to involvement in interactions\n",
      "\n"
     ]
    },
    {
     "data": {
      "text/html": [
       "<table class=\"dataframe\">\n",
       "<caption>A ggeffects: 4 × 6</caption>\n",
       "<thead>\n",
       "\t<tr><th scope=col>x</th><th scope=col>predicted</th><th scope=col>std.error</th><th scope=col>conf.low</th><th scope=col>conf.high</th><th scope=col>group</th></tr>\n",
       "\t<tr><th scope=col>&lt;fct&gt;</th><th scope=col>&lt;dbl&gt;</th><th scope=col>&lt;dbl&gt;</th><th scope=col>&lt;dbl&gt;</th><th scope=col>&lt;dbl&gt;</th><th scope=col>&lt;fct&gt;</th></tr>\n",
       "</thead>\n",
       "<tbody>\n",
       "\t<tr><td>1</td><td>5.066320</td><td>0.3397806</td><td>4.400362</td><td>5.732278</td><td>1</td></tr>\n",
       "\t<tr><td>2</td><td>4.494401</td><td>0.3624844</td><td>3.783944</td><td>5.204857</td><td>1</td></tr>\n",
       "\t<tr><td>3</td><td>4.615346</td><td>0.3397406</td><td>3.949467</td><td>5.281226</td><td>1</td></tr>\n",
       "\t<tr><td>4</td><td>4.761453</td><td>0.3960140</td><td>3.985279</td><td>5.537626</td><td>1</td></tr>\n",
       "</tbody>\n",
       "</table>\n"
      ],
      "text/latex": [
       "A ggeffects: 4 × 6\n",
       "\\begin{tabular}{llllll}\n",
       " x & predicted & std.error & conf.low & conf.high & group\\\\\n",
       " <fct> & <dbl> & <dbl> & <dbl> & <dbl> & <fct>\\\\\n",
       "\\hline\n",
       "\t 1 & 5.066320 & 0.3397806 & 4.400362 & 5.732278 & 1\\\\\n",
       "\t 2 & 4.494401 & 0.3624844 & 3.783944 & 5.204857 & 1\\\\\n",
       "\t 3 & 4.615346 & 0.3397406 & 3.949467 & 5.281226 & 1\\\\\n",
       "\t 4 & 4.761453 & 0.3960140 & 3.985279 & 5.537626 & 1\\\\\n",
       "\\end{tabular}\n"
      ],
      "text/markdown": [
       "\n",
       "A ggeffects: 4 × 6\n",
       "\n",
       "| x &lt;fct&gt; | predicted &lt;dbl&gt; | std.error &lt;dbl&gt; | conf.low &lt;dbl&gt; | conf.high &lt;dbl&gt; | group &lt;fct&gt; |\n",
       "|---|---|---|---|---|---|\n",
       "| 1 | 5.066320 | 0.3397806 | 4.400362 | 5.732278 | 1 |\n",
       "| 2 | 4.494401 | 0.3624844 | 3.783944 | 5.204857 | 1 |\n",
       "| 3 | 4.615346 | 0.3397406 | 3.949467 | 5.281226 | 1 |\n",
       "| 4 | 4.761453 | 0.3960140 | 3.985279 | 5.537626 | 1 |\n",
       "\n"
      ],
      "text/plain": [
       "  x predicted std.error conf.low conf.high group\n",
       "1 1 5.066320  0.3397806 4.400362 5.732278  1    \n",
       "2 2 4.494401  0.3624844 3.783944 5.204857  1    \n",
       "3 3 4.615346  0.3397406 3.949467 5.281226  1    \n",
       "4 4 4.761453  0.3960140 3.985279 5.537626  1    "
      ]
     },
     "metadata": {},
     "output_type": "display_data"
    }
   ],
   "source": [
    "# emmeans for plot\n",
    "cat('\\n\\n* Estimated Marginal Means for Response:\\n')\n",
    "gemm.response <- ggemmeans(model.rt, terms=c('response_mode'))\n",
    "write.csv(gemm.response, paste(dir.out, 'emmeans_rt_response.csv', sep='/'), row.names = FALSE)\n",
    "gemm.response\n",
    "\n",
    "cat('\\n\\n* Estimated Marginal Means for Session:\\n')\n",
    "gemm.session <- ggemmeans(model.rt, terms=c('session_num'))\n",
    "write.csv(gemm.session, paste(dir.out, 'emmeans_rt_session.csv', sep='/'), row.names = FALSE)\n",
    "gemm.session\n"
   ]
  },
  {
   "cell_type": "code",
   "execution_count": 19,
   "id": "922add83-9aa8-4ea6-886f-0c9f38789926",
   "metadata": {},
   "outputs": [
    {
     "data": {
      "text/plain": [
       "$response_mode\n",
       "\n",
       "$session_num\n"
      ]
     },
     "metadata": {},
     "output_type": "display_data"
    },
    {
     "data": {
      "image/png": "[encoded data removed]",
      "text/plain": [
       "plot without title"
      ]
     },
     "metadata": {
      "image/png": {
       "height": 420,
       "width": 420
      }
     },
     "output_type": "display_data"
    },
    {
     "data": {
      "image/png": "[encoded data removed]",
      "text/plain": [
       "plot without title"
      ]
     },
     "metadata": {
      "image/png": {
       "height": 420,
       "width": 420
      }
     },
     "output_type": "display_data"
    }
   ],
   "source": [
    "# Effects plots\n",
    "plot_model(model.rt, type='pred')"
   ]
  },
  {
   "cell_type": "markdown",
   "id": "1f4d679c-e304-40d3-8fd6-c095b852afb9",
   "metadata": {},
   "source": [
    "### TLX Score"
   ]
  },
  {
   "cell_type": "code",
   "execution_count": 20,
   "id": "96fa3d13-88b2-412d-ac2c-89b25caeffae",
   "metadata": {},
   "outputs": [
    {
     "name": "stdout",
     "output_type": "stream",
     "text": [
      "* ANOVA Omntrials_varsults + Statistics:\n",
      "Linear mixed model fit by REML. t-tests use Satterthwaite's method [\n",
      "lmerModLmerTest]\n",
      "Formula: f.tlx\n",
      "   Data: tlx\n",
      "\n",
      "REML criterion at convergence: 339.8\n",
      "\n",
      "Scaled residuals: \n",
      "     Min       1Q   Median       3Q      Max \n",
      "-1.53817 -0.47114 -0.07449  0.55594  1.34442 \n",
      "\n",
      "Random effects:\n",
      " Groups   Name        Variance Std.Dev.\n",
      " ppid     (Intercept) 87.12    9.334   \n",
      " Residual             15.86    3.983   \n",
      "Number of obs: 64, groups:  ppid, 16\n",
      "\n",
      "Fixed effects:\n",
      "                                 Estimate Std. Error      df t value Pr(>|t|)\n",
      "(Intercept)                       22.8125     2.5371 18.3173   8.992 3.86e-08\n",
      "response_modecube                  2.3438     1.4082 32.8767   1.664 0.105550\n",
      "response_modefixed                -5.8333     1.4082 32.8767  -4.142 0.000225\n",
      "response_modelaser                -4.3229     1.4082 32.8767  -3.070 0.004274\n",
      "session_num.L                     -4.6482     2.4265 35.1197  -1.916 0.063580\n",
      "session_num.Q                     -2.4626     2.4320 35.1095  -1.013 0.318198\n",
      "session_num.C                     -1.6438     2.3695 34.5780  -0.694 0.492483\n",
      "response_modecube:session_num.L    0.3171     3.7682 36.1499   0.084 0.933408\n",
      "response_modefixed:session_num.L   3.0866     3.5462 35.2805   0.870 0.389964\n",
      "response_modelaser:session_num.L  -0.9290     3.4537 34.7401  -0.269 0.789531\n",
      "response_modecube:session_num.Q    2.4784     3.3658 34.5907   0.736 0.466471\n",
      "response_modefixed:session_num.Q   4.5672     3.7969 36.2800   1.203 0.236818\n",
      "response_modelaser:session_num.Q   7.1797     3.6564 35.4777   1.964 0.057452\n",
      "response_modecube:session_num.C   -4.9568     3.6292 35.2957  -1.366 0.180640\n",
      "response_modefixed:session_num.C   1.9590     3.4415 34.6474   0.569 0.572872\n",
      "response_modelaser:session_num.C  -3.5639     3.4356 34.6881  -1.037 0.306751\n",
      "                                    \n",
      "(Intercept)                      ***\n",
      "response_modecube                   \n",
      "response_modefixed               ***\n",
      "response_modelaser               ** \n",
      "session_num.L                    .  \n",
      "session_num.Q                       \n",
      "session_num.C                       \n",
      "response_modecube:session_num.L     \n",
      "response_modefixed:session_num.L    \n",
      "response_modelaser:session_num.L    \n",
      "response_modecube:session_num.Q     \n",
      "response_modefixed:session_num.Q    \n",
      "response_modelaser:session_num.Q .  \n",
      "response_modecube:session_num.C     \n",
      "response_modefixed:session_num.C    \n",
      "response_modelaser:session_num.C    \n",
      "---\n",
      "Signif. codes:  0 '***' 0.001 '**' 0.01 '*' 0.05 '.' 0.1 ' ' 1\n"
     ]
    },
    {
     "name": "stderr",
     "output_type": "stream",
     "text": [
      "\n",
      "Correlation matrix not shown by default, as p = 16 > 12.\n",
      "Use print(summary(model.tlx), correlation=TRUE)  or\n",
      "    vcov(summary(model.tlx))        if you need it\n",
      "\n",
      "\n",
      "Warning message in tidy.anova(model):\n",
      "\"The following column names in ANOVA output were not recognized or transformed: NumDF, DenDF\"\n"
     ]
    },
    {
     "name": "stdout",
     "output_type": "stream",
     "text": [
      "term                      |   sumsq |  meansq | NumDF |  DenDF | statistic | p.value | df | etasq | partial.etasq | omegasq | partial.omegasq | epsilonsq | cohens.f | power\n",
      "----------------------------------------------------------------------------------------------------------------------------------------------------------------------------\n",
      "response_mode             | 687.196 | 229.065 |     3 | 32.877 |    14.439 |  < .001 |    | 0.374 |         0.561 |         |                 |           |    1.131 |      \n",
      "session_num               | 451.519 | 150.506 |     3 | 32.877 |     9.487 |  < .001 |    | 0.245 |         0.456 |         |                 |           |    0.916 |      \n",
      "response_mode:session_num | 163.233 |  18.137 |     9 | 34.690 |     1.143 |   0.360 |    | 0.089 |         0.233 |         |                 |           |    0.551 |      \n",
      "Residuals                 | 537.584 |   8.400 |       |        |           |         | 64 |       |               |         |                 |           |          |      \n"
     ]
    }
   ],
   "source": [
    "# Fit final model\n",
    "model.tlx <- lmer(data=tlx, f.tlx)\n",
    "\n",
    "# Model + Anova results\n",
    "cat('* ANOVA Omntrials_varsults + Statistics:\\n')\n",
    "print(summary(model.tlx))\n",
    "print(anova_stats(model.tlx))\n"
   ]
  },
  {
   "cell_type": "code",
   "execution_count": 21,
   "id": "8e974b99-4d10-4987-aa14-dd02b3a7efd4",
   "metadata": {},
   "outputs": [
    {
     "name": "stdout",
     "output_type": "stream",
     "text": [
      "\n",
      "\n",
      "* Post-Hoc Comparisons for Response Mode:\n"
     ]
    },
    {
     "name": "stderr",
     "output_type": "stream",
     "text": [
      "NOTE: Results may be misleading due to involvement in interactions\n",
      "\n"
     ]
    },
    {
     "name": "stdout",
     "output_type": "stream",
     "text": [
      " contrast       estimate   SE df t.ratio p.value\n",
      " object - cube     -2.34 1.41 33 -1.664  0.2110 \n",
      " object - fixed     5.83 1.41 33  4.142  0.0009 \n",
      " object - laser     4.32 1.41 33  3.070  0.0128 \n",
      " cube - fixed       8.18 1.41 33  5.807  <.0001 \n",
      " cube - laser       6.67 1.41 33  4.734  0.0002 \n",
      " fixed - laser     -1.51 1.41 33 -1.073  0.2912 \n",
      "\n",
      "Results are averaged over the levels of: session_num \n",
      "Degrees-of-freedom method: kenward-roger \n",
      "P value adjustment: holm method for 6 tests \n"
     ]
    },
    {
     "name": "stderr",
     "output_type": "stream",
     "text": [
      "Since 'object' is a list, we are using the contrasts already present.\n",
      "\n"
     ]
    },
    {
     "name": "stdout",
     "output_type": "stream",
     "text": [
      " contrast         effect.size    SE df lower.CL upper.CL\n",
      " (object - cube)       -0.588 0.359 33   -1.318    0.142\n",
      " (object - fixed)       1.465 0.385 33    0.681    2.248\n",
      " (object - laser)       1.085 0.371 33    0.330    1.841\n",
      " (cube - fixed)         2.053 0.413 33    1.212    2.894\n",
      " (cube - laser)         1.674 0.394 33    0.872    2.476\n",
      " (fixed - laser)       -0.379 0.356 33   -1.103    0.345\n",
      "\n",
      "Results are averaged over the levels of: session_num \n",
      "sigma used for effect sizes: 3.983 \n",
      "Degrees-of-freedom method: inherited from kenward-roger when re-gridding \n",
      "Confidence level used: 0.95 \n",
      "\n",
      "\n",
      "* Post-Hoc Comparisons for Session:\n"
     ]
    },
    {
     "name": "stderr",
     "output_type": "stream",
     "text": [
      "NOTE: Results may be misleading due to involvement in interactions\n",
      "\n"
     ]
    },
    {
     "name": "stdout",
     "output_type": "stream",
     "text": [
      " contrast estimate   SE df t.ratio p.value\n",
      " 1 - 2        5.83 1.41 33  4.142  0.0011 \n",
      " 1 - 3        3.23 1.41 33  2.293  0.0850 \n",
      " 1 - 4        6.88 1.41 33  4.882  0.0002 \n",
      " 2 - 3       -2.60 1.41 33 -1.849  0.1468 \n",
      " 2 - 4        1.04 1.41 33  0.740  0.4647 \n",
      " 3 - 4        3.65 1.41 33  2.589  0.0568 \n",
      "\n",
      "Results are averaged over the levels of: response_mode \n",
      "Degrees-of-freedom method: kenward-roger \n",
      "P value adjustment: holm method for 6 tests \n"
     ]
    },
    {
     "name": "stderr",
     "output_type": "stream",
     "text": [
      "NOTE: Results may be misleading due to involvement in interactions\n",
      "\n",
      "Since 'object' is a list, we are using the contrasts already present.\n",
      "\n"
     ]
    },
    {
     "name": "stdout",
     "output_type": "stream",
     "text": [
      " contrast effect.size    SE df lower.CL upper.CL\n",
      " (1 - 2)        1.465 0.385 33   0.6810   2.2481\n",
      " (1 - 3)        0.811 0.364 33   0.0712   1.5503\n",
      " (1 - 4)        1.726 0.397 33   0.9189   2.5332\n",
      " (2 - 3)       -0.654 0.360 33  -1.3864   0.0787\n",
      " (2 - 4)        0.262 0.355 33  -0.4599   0.9830\n",
      " (3 - 4)        0.915 0.366 33   0.1703   1.6604\n",
      "\n",
      "Results are averaged over the levels of: response_mode \n",
      "sigma used for effect sizes: 3.983 \n",
      "Degrees-of-freedom method: inherited from kenward-roger when re-gridding \n",
      "Confidence level used: 0.95 \n"
     ]
    }
   ],
   "source": [
    "# Post-hoc contrasts\n",
    "cat('\\n\\n* Post-Hoc Comparisons for Response Mode:\\n')\n",
    "emm_response <- emmeans(model.tlx, pairwise ~ response_mode, adjust=\"holm\")\n",
    "print(emm_response$contrasts)\n",
    "print(eff_size(emm_response, sigma = sigma(model.tlx), edf = df.residual(model.tlx)))\n",
    "\n",
    "cat('\\n\\n* Post-Hoc Comparisons for Session:\\n')\n",
    "print(emmeans(model.tlx, pairwise ~ session_num, adjust=\"holm\")$contrasts)\n",
    "print(eff_size(emmeans(model.tlx, pairwise ~ session_num, adjust=\"holm\"), sigma = sigma(model.tlx), edf = df.residual(model.tlx)))"
   ]
  },
  {
   "cell_type": "code",
   "execution_count": 22,
   "id": "f65f7a26-385e-4c76-a971-8356d7c1f1fe",
   "metadata": {},
   "outputs": [
    {
     "name": "stdout",
     "output_type": "stream",
     "text": [
      "\n",
      "\n",
      "* Estimated Marginal Means for Response:\n"
     ]
    },
    {
     "name": "stderr",
     "output_type": "stream",
     "text": [
      "NOTE: Results may be misleading due to involvement in interactions\n",
      "\n"
     ]
    },
    {
     "data": {
      "text/html": [
       "<table class=\"dataframe\">\n",
       "<caption>A ggeffects: 4 × 6</caption>\n",
       "<thead>\n",
       "\t<tr><th scope=col>x</th><th scope=col>predicted</th><th scope=col>std.error</th><th scope=col>conf.low</th><th scope=col>conf.high</th><th scope=col>group</th></tr>\n",
       "\t<tr><th scope=col>&lt;fct&gt;</th><th scope=col>&lt;dbl&gt;</th><th scope=col>&lt;dbl&gt;</th><th scope=col>&lt;dbl&gt;</th><th scope=col>&lt;dbl&gt;</th><th scope=col>&lt;fct&gt;</th></tr>\n",
       "</thead>\n",
       "<tbody>\n",
       "\t<tr><td>object</td><td>22.81250</td><td>2.537079</td><td>17.83992</td><td>27.78508</td><td>1</td></tr>\n",
       "\t<tr><td>cube  </td><td>25.15625</td><td>2.537079</td><td>20.18367</td><td>30.12883</td><td>1</td></tr>\n",
       "\t<tr><td>fixed </td><td>16.97917</td><td>2.537079</td><td>12.00658</td><td>21.95175</td><td>1</td></tr>\n",
       "\t<tr><td>laser </td><td>18.48958</td><td>2.537079</td><td>13.51700</td><td>23.46217</td><td>1</td></tr>\n",
       "</tbody>\n",
       "</table>\n"
      ],
      "text/latex": [
       "A ggeffects: 4 × 6\n",
       "\\begin{tabular}{llllll}\n",
       " x & predicted & std.error & conf.low & conf.high & group\\\\\n",
       " <fct> & <dbl> & <dbl> & <dbl> & <dbl> & <fct>\\\\\n",
       "\\hline\n",
       "\t object & 22.81250 & 2.537079 & 17.83992 & 27.78508 & 1\\\\\n",
       "\t cube   & 25.15625 & 2.537079 & 20.18367 & 30.12883 & 1\\\\\n",
       "\t fixed  & 16.97917 & 2.537079 & 12.00658 & 21.95175 & 1\\\\\n",
       "\t laser  & 18.48958 & 2.537079 & 13.51700 & 23.46217 & 1\\\\\n",
       "\\end{tabular}\n"
      ],
      "text/markdown": [
       "\n",
       "A ggeffects: 4 × 6\n",
       "\n",
       "| x &lt;fct&gt; | predicted &lt;dbl&gt; | std.error &lt;dbl&gt; | conf.low &lt;dbl&gt; | conf.high &lt;dbl&gt; | group &lt;fct&gt; |\n",
       "|---|---|---|---|---|---|\n",
       "| object | 22.81250 | 2.537079 | 17.83992 | 27.78508 | 1 |\n",
       "| cube   | 25.15625 | 2.537079 | 20.18367 | 30.12883 | 1 |\n",
       "| fixed  | 16.97917 | 2.537079 | 12.00658 | 21.95175 | 1 |\n",
       "| laser  | 18.48958 | 2.537079 | 13.51700 | 23.46217 | 1 |\n",
       "\n"
      ],
      "text/plain": [
       "  x      predicted std.error conf.low conf.high group\n",
       "1 object 22.81250  2.537079  17.83992 27.78508  1    \n",
       "2 cube   25.15625  2.537079  20.18367 30.12883  1    \n",
       "3 fixed  16.97917  2.537079  12.00658 21.95175  1    \n",
       "4 laser  18.48958  2.537079  13.51700 23.46217  1    "
      ]
     },
     "metadata": {},
     "output_type": "display_data"
    },
    {
     "name": "stdout",
     "output_type": "stream",
     "text": [
      "\n",
      "\n",
      "* Estimated Marginal Means for Session:\n"
     ]
    },
    {
     "name": "stderr",
     "output_type": "stream",
     "text": [
      "NOTE: Results may be misleading due to involvement in interactions\n",
      "\n"
     ]
    },
    {
     "data": {
      "text/html": [
       "<table class=\"dataframe\">\n",
       "<caption>A ggeffects: 4 × 6</caption>\n",
       "<thead>\n",
       "\t<tr><th scope=col>x</th><th scope=col>predicted</th><th scope=col>std.error</th><th scope=col>conf.low</th><th scope=col>conf.high</th><th scope=col>group</th></tr>\n",
       "\t<tr><th scope=col>&lt;fct&gt;</th><th scope=col>&lt;dbl&gt;</th><th scope=col>&lt;dbl&gt;</th><th scope=col>&lt;dbl&gt;</th><th scope=col>&lt;dbl&gt;</th><th scope=col>&lt;fct&gt;</th></tr>\n",
       "</thead>\n",
       "<tbody>\n",
       "\t<tr><td>1</td><td>24.84375</td><td>2.537079</td><td>19.87117</td><td>29.81633</td><td>1</td></tr>\n",
       "\t<tr><td>2</td><td>19.01042</td><td>2.537079</td><td>14.03783</td><td>23.98300</td><td>1</td></tr>\n",
       "\t<tr><td>3</td><td>21.61458</td><td>2.537079</td><td>16.64200</td><td>26.58717</td><td>1</td></tr>\n",
       "\t<tr><td>4</td><td>17.96875</td><td>2.537079</td><td>12.99617</td><td>22.94133</td><td>1</td></tr>\n",
       "</tbody>\n",
       "</table>\n"
      ],
      "text/latex": [
       "A ggeffects: 4 × 6\n",
       "\\begin{tabular}{llllll}\n",
       " x & predicted & std.error & conf.low & conf.high & group\\\\\n",
       " <fct> & <dbl> & <dbl> & <dbl> & <dbl> & <fct>\\\\\n",
       "\\hline\n",
       "\t 1 & 24.84375 & 2.537079 & 19.87117 & 29.81633 & 1\\\\\n",
       "\t 2 & 19.01042 & 2.537079 & 14.03783 & 23.98300 & 1\\\\\n",
       "\t 3 & 21.61458 & 2.537079 & 16.64200 & 26.58717 & 1\\\\\n",
       "\t 4 & 17.96875 & 2.537079 & 12.99617 & 22.94133 & 1\\\\\n",
       "\\end{tabular}\n"
      ],
      "text/markdown": [
       "\n",
       "A ggeffects: 4 × 6\n",
       "\n",
       "| x &lt;fct&gt; | predicted &lt;dbl&gt; | std.error &lt;dbl&gt; | conf.low &lt;dbl&gt; | conf.high &lt;dbl&gt; | group &lt;fct&gt; |\n",
       "|---|---|---|---|---|---|\n",
       "| 1 | 24.84375 | 2.537079 | 19.87117 | 29.81633 | 1 |\n",
       "| 2 | 19.01042 | 2.537079 | 14.03783 | 23.98300 | 1 |\n",
       "| 3 | 21.61458 | 2.537079 | 16.64200 | 26.58717 | 1 |\n",
       "| 4 | 17.96875 | 2.537079 | 12.99617 | 22.94133 | 1 |\n",
       "\n"
      ],
      "text/plain": [
       "  x predicted std.error conf.low conf.high group\n",
       "1 1 24.84375  2.537079  19.87117 29.81633  1    \n",
       "2 2 19.01042  2.537079  14.03783 23.98300  1    \n",
       "3 3 21.61458  2.537079  16.64200 26.58717  1    \n",
       "4 4 17.96875  2.537079  12.99617 22.94133  1    "
      ]
     },
     "metadata": {},
     "output_type": "display_data"
    }
   ],
   "source": [
    "# emmeans for plot\n",
    "cat('\\n\\n* Estimated Marginal Means for Response:\\n')\n",
    "gemm.response <- ggemmeans(model.tlx, terms=c('response_mode'))\n",
    "write.csv(gemm.response, paste(dir.out, 'emmeans_tlx_response.csv', sep='/'), row.names = FALSE)\n",
    "gemm.response\n",
    "\n",
    "cat('\\n\\n* Estimated Marginal Means for Session:\\n')\n",
    "gemm.session <- ggemmeans(model.tlx, terms=c('session_num'))\n",
    "write.csv(gemm.session, paste(dir.out, 'emmeans_tlx_session.csv', sep='/'), row.names = FALSE)\n",
    "gemm.session\n"
   ]
  },
  {
   "cell_type": "code",
   "execution_count": 23,
   "id": "0b13517b-b61c-4746-99aa-ac92eb1cb591",
   "metadata": {},
   "outputs": [
    {
     "data": {
      "text/plain": [
       "$response_mode\n",
       "\n",
       "$session_num\n"
      ]
     },
     "metadata": {},
     "output_type": "display_data"
    },
    {
     "data": {
      "image/png": "[encoded data removed]",
      "text/plain": [
       "plot without title"
      ]
     },
     "metadata": {
      "image/png": {
       "height": 420,
       "width": 420
      }
     },
     "output_type": "display_data"
    },
    {
     "data": {
      "image/png": "[encoded data removed]",
      "text/plain": [
       "plot without title"
      ]
     },
     "metadata": {
      "image/png": {
       "height": 420,
       "width": 420
      }
     },
     "output_type": "display_data"
    }
   ],
   "source": [
    "# Plot effects\n",
    "plot_model(model.tlx, type='pred')"
   ]
  }
 ],
 "metadata": {
  "kernelspec": {
   "display_name": "R",
   "language": "R",
   "name": "ir"
  },
  "language_info": {
   "codemirror_mode": "r",
   "file_extension": ".r",
   "mimetype": "text/x-r-source",
   "name": "R",
   "pygments_lexer": "r",
   "version": "4.0.3"
  }
 },
 "nbformat": 4,
 "nbformat_minor": 5
}
